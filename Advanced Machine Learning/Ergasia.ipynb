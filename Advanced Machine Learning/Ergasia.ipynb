{
  "nbformat": 4,
  "nbformat_minor": 0,
  "metadata": {
    "colab": {
      "name": "Ergasia.ipynb",
      "provenance": []
    },
    "kernelspec": {
      "name": "python3",
      "display_name": "Python 3"
    },
    "accelerator": "GPU"
  },
  "cells": [
    {
      "cell_type": "code",
      "metadata": {
        "id": "uVaayJx_aS45",
        "colab": {
          "base_uri": "https://localhost:8080/"
        },
        "outputId": "884a118c-9f4c-42bc-dc05-544105d3468b"
      },
      "source": [
        "from PIL import Image\n",
        "from google.colab import drive\n",
        "\n",
        "\n",
        "import matplotlib\n",
        "import numpy as np\n",
        "import os\n",
        "import time\n",
        "\n",
        "import tensorflow\n",
        "\n",
        "drive.mount(\"/content/drive\")\n",
        "os.chdir('/content/drive/MyDrive/Xray dataset/')\n",
        "print(os.getcwd())\n",
        "print(\"\\n\\n\")\n",
        "print(os.listdir())"
      ],
      "execution_count": 1,
      "outputs": [
        {
          "output_type": "stream",
          "text": [
            "Mounted at /content/drive\n",
            "/content/drive/.shortcut-targets-by-id/1VAPPBRn0kOsaI1d3wd2uhavyJu4jFTvK/Xray dataset\n",
            "\n",
            "\n",
            "\n",
            "['labels_train.csv', 'sample_submission.csv', 'test_images', 'train_images', 'labels_train.gsheet']\n"
          ],
          "name": "stdout"
        }
      ]
    },
    {
      "cell_type": "code",
      "metadata": {
        "colab": {
          "base_uri": "https://localhost:8080/",
          "height": 180
        },
        "id": "w6maNvg6bpQw",
        "outputId": "b4b01444-d8d0-4e28-a798-427a746fbe10"
      },
      "source": [
        "os.chdir('./test_images/')\r\n",
        "print(os.listdir())\r\n",
        "for image in os.listdir():\r\n",
        "  continue\r\n"
      ],
      "execution_count": 5,
      "outputs": [
        {
          "output_type": "error",
          "ename": "FileNotFoundError",
          "evalue": "ignored",
          "traceback": [
            "\u001b[0;31m---------------------------------------------------------------------------\u001b[0m",
            "\u001b[0;31mFileNotFoundError\u001b[0m                         Traceback (most recent call last)",
            "\u001b[0;32m<ipython-input-5-d83f2fd19749>\u001b[0m in \u001b[0;36m<module>\u001b[0;34m()\u001b[0m\n\u001b[0;32m----> 1\u001b[0;31m \u001b[0mos\u001b[0m\u001b[0;34m.\u001b[0m\u001b[0mchdir\u001b[0m\u001b[0;34m(\u001b[0m\u001b[0;34m'./test_images/'\u001b[0m\u001b[0;34m)\u001b[0m\u001b[0;34m\u001b[0m\u001b[0;34m\u001b[0m\u001b[0m\n\u001b[0m\u001b[1;32m      2\u001b[0m \u001b[0mprint\u001b[0m\u001b[0;34m(\u001b[0m\u001b[0mos\u001b[0m\u001b[0;34m.\u001b[0m\u001b[0mlistdir\u001b[0m\u001b[0;34m(\u001b[0m\u001b[0;34m)\u001b[0m\u001b[0;34m)\u001b[0m\u001b[0;34m\u001b[0m\u001b[0;34m\u001b[0m\u001b[0m\n",
            "\u001b[0;31mFileNotFoundError\u001b[0m: [Errno 2] No such file or directory: './test_images/'"
          ]
        }
      ]
    },
    {
      "cell_type": "code",
      "metadata": {
        "id": "hPzLIOijOGDh"
      },
      "source": [
        "def resize(image_pil, width, height):\n",
        "    '''\n",
        "    Resize PIL image keeping ratio and using white background.\n",
        "    '''\n",
        "    ratio_w = width / image_pil.width\n",
        "    ratio_h = height / image_pil.height\n",
        "    if ratio_w < ratio_h:\n",
        "        # It must be fixed by width\n",
        "        resize_width = width\n",
        "        resize_height = round(ratio_w * image_pil.height)\n",
        "    else:\n",
        "        # Fixed by height\n",
        "        resize_width = round(ratio_h * image_pil.width)\n",
        "        resize_height = height\n",
        "    image_resize = image_pil.resize((resize_width, resize_height), Image.ANTIALIAS)\n",
        "    background = Image.new('RGBA', (width, height), (255, 255, 255, 255))\n",
        "    offset = (round((width - resize_width) / 2), round((height - resize_height) / 2))\n",
        "    background.paste(image_resize, offset)\n",
        "    return background.convert('RGB')"
      ],
      "execution_count": null,
      "outputs": []
    },
    {
      "cell_type": "code",
      "metadata": {
        "colab": {
          "base_uri": "https://localhost:8080/"
        },
        "id": "hRBTNVDNOL4H",
        "outputId": "b41c1a57-1420-40b0-be82-866781d6e467"
      },
      "source": [
        "image_list = []\n",
        "\n",
        "for filename in ('../Xray dataset/train_images/*'): #assuming gif\n",
        "    im=Image.open(filename)\n",
        "    image_list.append(im)\n",
        "\n",
        "print(image_list)"
      ],
      "execution_count": null,
      "outputs": [
        {
          "output_type": "stream",
          "text": [
            "[]\n"
          ],
          "name": "stdout"
        }
      ]
    },
    {
      "cell_type": "code",
      "metadata": {
        "id": "ICMOYPv_8_8q"
      },
      "source": [
        "from tensorflow import keras"
      ],
      "execution_count": null,
      "outputs": []
    }
  ]
}