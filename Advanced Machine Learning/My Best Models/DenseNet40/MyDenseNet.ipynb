{
  "nbformat": 4,
  "nbformat_minor": 0,
  "metadata": {
    "colab": {
      "name": "MyDenseNet.ipynb",
      "provenance": [],
      "collapsed_sections": []
    },
    "kernelspec": {
      "name": "python3",
      "display_name": "Python 3"
    },
    "accelerator": "GPU"
  },
  "cells": [
    {
      "cell_type": "code",
      "metadata": {
        "colab": {
          "base_uri": "https://localhost:8080/"
        },
        "id": "ST5bPH8F3BfM",
        "outputId": "9a19cfe4-6ddc-43f4-c8bd-99973f80f355"
      },
      "source": [
        "from google.colab import drive\r\n",
        "\r\n",
        "import matplotlib.pyplot as plt\r\n",
        "import matplotlib.image as mpimg\r\n",
        "import numpy as np\r\n",
        "import os\r\n",
        "import time\r\n",
        "from numpy.linalg import inv, norm\r\n",
        "from IPython.display import display \r\n",
        "import pandas\r\n",
        "\r\n",
        "\r\n",
        "drive.mount(\"/content/drive\")\r\n",
        "os.chdir('/content/drive/MyDrive/Xrays/')\r\n",
        "print('\\n',os.getcwd())\r\n",
        "print(\"\\n\")\r\n",
        "print(os.listdir())\r\n",
        "\r\n",
        "save_dir = os.path.join(os.getcwd(),'saved_models')\r\n",
        "\r\n",
        "##Imports for the Learning and the plotting\r\n",
        "import keras\r\n",
        "import tensorflow as tf\r\n",
        "\r\n",
        "from tensorflow.keras.utils import plot_model\r\n",
        "\r\n",
        "from tensorflow.keras.layers import Dense, Conv2D, BatchNormalization, Activation, Concatenate, \\\r\n",
        "                                    AveragePooling2D, Input, MaxPooling2D, GlobalAveragePooling2D\r\n",
        "from tensorflow.keras.optimizers import Adam\r\n",
        "from tensorflow.keras.callbacks import ModelCheckpoint, LearningRateScheduler, ReduceLROnPlateau\r\n",
        "from tensorflow.keras.regularizers import l2\r\n",
        "from tensorflow.keras import backend as K\r\n",
        "from tensorflow.keras.models import Model\r\n",
        "\r\n",
        "\r\n",
        "##Import for preprocessing\r\n",
        "from tensorflow.keras.preprocessing.image import ImageDataGenerator"
      ],
      "execution_count": 1,
      "outputs": [
        {
          "output_type": "stream",
          "text": [
            "Mounted at /content/drive\n",
            "\n",
            " /content/drive/MyDrive/Xrays\n",
            "\n",
            "\n",
            "['labels_train.csv', 'train_images', 'saved_models', 'test_images', 'submission_resnet8_150p_DataGen.csv', 'submission_resnet20_128p.csv', 'submission_resnet20_256p.csv', 'submission_resnet20_170p_DataGen_MaxPool_val_acc0.8245.csv', 'mean.npy', 'to_upload', 'model.png']\n"
          ],
          "name": "stdout"
        }
      ]
    },
    {
      "cell_type": "code",
      "metadata": {
        "id": "MbvCbbLZ3R0r"
      },
      "source": [
        "from PIL import Image\r\n",
        "\r\n",
        "def resize(image_pil, width, height):\r\n",
        "    '''\r\n",
        "    Resize PIL image keeping ratio and using white background.\r\n",
        "    '''\r\n",
        "    ratio_w = width / image_pil.width\r\n",
        "    ratio_h = height / image_pil.height\r\n",
        "    if ratio_w < ratio_h:\r\n",
        "        # It must be fixed by width\r\n",
        "        resize_width = width\r\n",
        "        resize_height = round(ratio_w * image_pil.height)\r\n",
        "    else:\r\n",
        "        # Fixed by height\r\n",
        "        resize_width = round(ratio_h * image_pil.width)\r\n",
        "        resize_height = height\r\n",
        "    image_resize = image_pil.resize((resize_width, resize_height), Image.ANTIALIAS)\r\n",
        "    background = Image.new('RGBA', (width, height), (0, 0, 0, 255))\r\n",
        "    offset = (round((width - resize_width) / 2), round((height - resize_height) / 2))\r\n",
        "    background.paste(image_resize, offset)\r\n",
        "    return background.convert('RGB')\r\n",
        "\r\n",
        "width = height = 150"
      ],
      "execution_count": 2,
      "outputs": []
    },
    {
      "cell_type": "code",
      "metadata": {
        "colab": {
          "base_uri": "https://localhost:8080/"
        },
        "id": "MX3g603hDaop",
        "outputId": "efd70a97-d146-4666-8822-6cbb190acd92"
      },
      "source": [
        "data= pandas.read_csv('/content/drive/MyDrive/Xrays/labels_train.csv', header=None, usecols=[0,1], names=['file_name', 'class_id'])\r\n",
        "#print(labels[1:])\r\n",
        "labels = data['class_id'].values\r\n",
        "labels = labels[1:]\r\n",
        "img_name = data['file_name'].values\r\n",
        "img_name = img_name[1:]\r\n",
        "\r\n",
        "#data_labels = np.array(data[1:])\r\n",
        "#print(data_labels.shape)   \r\n",
        "\r\n",
        "labels = np.array(labels)\r\n",
        "print(labels.shape)   \r\n",
        "print(labels)"
      ],
      "execution_count": 3,
      "outputs": [
        {
          "output_type": "stream",
          "text": [
            "(4672,)\n",
            "['1' '2' '2' ... '1' '1' '1']\n"
          ],
          "name": "stdout"
        }
      ]
    },
    {
      "cell_type": "code",
      "metadata": {
        "colab": {
          "base_uri": "https://localhost:8080/",
          "height": 266
        },
        "id": "yQwLkwhlUjW_",
        "outputId": "59af37e4-679a-43b5-edc5-2d2b5b9a1d28"
      },
      "source": [
        "class_0=class_1=class_2=0\r\n",
        "\r\n",
        "for i in labels:\r\n",
        "  if i=='0':\r\n",
        "    class_0 += 1\r\n",
        "  elif i=='1':\r\n",
        "    class_1 += 1\r\n",
        "  else:\r\n",
        "    class_2 += 1\r\n",
        "\r\n",
        "plt.subplot(111)\r\n",
        "plt.bar(['class_0','class_1','class_2'],[class_0, class_1, class_2])\r\n",
        "plt.show()"
      ],
      "execution_count": null,
      "outputs": [
        {
          "output_type": "display_data",
          "data": {
            "image/png": "[encoded data removed]",
            "text/plain": [
              "<Figure size 432x288 with 1 Axes>"
            ]
          },
          "metadata": {
            "tags": [],
            "needs_background": "light"
          }
        }
      ]
    },
    {
      "cell_type": "code",
      "metadata": {
        "id": "PCva8pf_c3jx"
      },
      "source": [
        "train_imgs = []\r\n",
        "for i in range(img_name.size):\r\n",
        "  img = Image.open('/content/drive/MyDrive/Xrays/train_images/{train_image}'.format(train_image=img_name[i]))\r\n",
        "  train_imgs.append(img)\r\n",
        "\r\n",
        "print(\"Loaded Training data\")"
      ],
      "execution_count": null,
      "outputs": []
    },
    {
      "cell_type": "code",
      "metadata": {
        "id": "eV4NREswYRyf"
      },
      "source": [
        "for i in range(img_name.size):\r\n",
        "  train_imgs[i]= resize(train_imgs[i], width, height)"
      ],
      "execution_count": null,
      "outputs": []
    },
    {
      "cell_type": "code",
      "metadata": {
        "id": "U7OLn8SdfHHx"
      },
      "source": [
        "for i in range(img_name.size):\r\n",
        "  train_imgs[i]= np.asarray(train_imgs[i])"
      ],
      "execution_count": null,
      "outputs": []
    },
    {
      "cell_type": "code",
      "metadata": {
        "id": "e22nwXUVgUy6"
      },
      "source": [
        "train_imgs = np.array(train_imgs, dtype=\"float32\")/255.0\r\n",
        "\r\n",
        "print(train_imgs.shape)"
      ],
      "execution_count": null,
      "outputs": []
    },
    {
      "cell_type": "code",
      "metadata": {
        "colab": {
          "base_uri": "https://localhost:8080/"
        },
        "id": "NbZC01ZN8UGU",
        "outputId": "347da62a-6937-4460-cffa-9c57b48acc80"
      },
      "source": [
        "depth = 20\r\n",
        "\r\n",
        "num_classes = 3\r\n",
        "\r\n",
        "from sklearn.model_selection import train_test_split\r\n",
        "\r\n",
        "x_train, x_test, y_train, y_test = train_test_split(train_imgs,labels, test_size=0.3)\r\n",
        "\r\n",
        "input_shape = x_train.shape[1:]\r\n",
        "\r\n",
        "x_train_mean = np.mean(x_train, axis=0)\r\n",
        "#print('x_train_mean:',x_train_mean)\r\n",
        "x_train -= x_train_mean\r\n",
        "x_test -= x_train_mean\r\n",
        "\r\n",
        "print('x_train shape:', x_train.shape)\r\n",
        "print(x_train.shape[0], 'train samples')\r\n",
        "print(x_test.shape[0], 'test samples')\r\n",
        "\r\n",
        "t_train = keras.utils.to_categorical(y_train, num_classes)\r\n",
        "t_test = keras.utils.to_categorical(y_test, num_classes)\r\n",
        "\r\n",
        "print('y_train (labels) shape:', y_train.shape)\r\n",
        "print('t_train (one-hot rep) shape:', t_train.shape)"
      ],
      "execution_count": 8,
      "outputs": [
        {
          "output_type": "stream",
          "text": [
            "x_train shape: (3270, 170, 170, 3)\n",
            "3270 train samples\n",
            "1402 test samples\n",
            "y_train (labels) shape: (3270,)\n",
            "t_train (one-hot rep) shape: (3270, 3)\n"
          ],
          "name": "stdout"
        }
      ]
    },
    {
      "cell_type": "code",
      "metadata": {
        "id": "h0VZB6i-Z_ih"
      },
      "source": [
        "print(y_test)\r\n",
        "print(t_test)\r\n",
        "print(y_train)\r\n",
        "print(t_train)\r\n",
        "print(input_shape)"
      ],
      "execution_count": null,
      "outputs": []
    },
    {
      "cell_type": "code",
      "metadata": {
        "id": "i_RW3XLc0z8Q"
      },
      "source": [
        "#Idk which one works \r\n",
        "train_imgs = []\r\n",
        "train_imgs = None\r\n",
        "del train_imgs\r\n",
        "labels = []\r\n",
        "labels = None\r\n",
        "del labels\r\n",
        "\r\n",
        "y_test = []\r\n",
        "y_test = None\r\n",
        "del y_test\r\n",
        "\r\n",
        "y_train = []\r\n",
        "y_train = None\r\n",
        "del y_train\r\n",
        "\r\n",
        "#Trying to release memory"
      ],
      "execution_count": 9,
      "outputs": []
    },
    {
      "cell_type": "code",
      "metadata": {
        "id": "UFuITuT-U-Eg"
      },
      "source": [
        "def dense_block(x, nb_layers, nb_channels, growth_rate, dropout_rate=None, bottleneck=False, weight_decay=1e-4):\r\n",
        "    \"\"\"\r\n",
        "    Creates a dense block and concatenates inputs\r\n",
        "    \"\"\"\r\n",
        "    \r\n",
        "    x_list = [x]\r\n",
        "    for i in range(nb_layers):\r\n",
        "        cb = convolution_block(x, growth_rate, dropout_rate, bottleneck, weight_decay)\r\n",
        "        x_list.append(cb)\r\n",
        "        x = Concatenate(axis=-1)(x_list)\r\n",
        "        nb_channels += growth_rate\r\n",
        "    return x, nb_channels\r\n",
        "\r\n",
        "def convolution_block(x, nb_channels, dropout_rate=None, bottleneck=False, weight_decay=1e-4):\r\n",
        "    \"\"\"\r\n",
        "    Creates a convolution block consisting of BN-ReLU-Conv.\r\n",
        "    Optional: bottleneck, dropout\r\n",
        "    \"\"\"\r\n",
        "    \r\n",
        "    # Bottleneck\r\n",
        "    if bottleneck:\r\n",
        "        bottleneckWidth = 4\r\n",
        "        x = BatchNormalization(gamma_regularizer=l2(weight_decay), beta_regularizer=l2(weight_decay))(x)\r\n",
        "        x = Activation('relu')(x)\r\n",
        "        x = Conv2D(nb_channels * bottleneckWidth, (1, 1), use_bias=False, kernel_regularizer=l2(weight_decay))(x)\r\n",
        "        # Dropout\r\n",
        "        if dropout_rate:\r\n",
        "            x = Dropout(dropout_rate)(x)\r\n",
        "    \r\n",
        "    # Standard (BN-ReLU-Conv)\r\n",
        "    x = BatchNormalization(gamma_regularizer=l2(weight_decay), beta_regularizer=l2(weight_decay))(x)\r\n",
        "    x = Activation('relu')(x)\r\n",
        "    x = Conv2D(nb_channels, (3, 3), padding='same', use_bias=False, kernel_regularizer=l2(weight_decay))(x)\r\n",
        "    \r\n",
        "    # Dropout\r\n",
        "    if dropout_rate:\r\n",
        "        x = Dropout(dropout_rate)(x)\r\n",
        "    \r\n",
        "    return x\r\n",
        "\r\n",
        "def transition_layer(x, nb_channels, dropout_rate=None, compression=1.0, weight_decay=1e-4):\r\n",
        "    \"\"\"\r\n",
        "    Creates a transition layer between dense blocks as transition, which do convolution and pooling.\r\n",
        "    Works as downsampling.\r\n",
        "    \"\"\"\r\n",
        "    \r\n",
        "    x = BatchNormalization(gamma_regularizer=l2(weight_decay), beta_regularizer=l2(weight_decay))(x)\r\n",
        "    x = Activation('relu')(x)\r\n",
        "    x = Conv2D(int(nb_channels*compression), (1, 1), padding='same',\r\n",
        "                      use_bias=False, kernel_regularizer=l2(weight_decay))(x)\r\n",
        "    \r\n",
        "    # Adding dropout\r\n",
        "    if dropout_rate:\r\n",
        "        x = Dropout(dropout_rate)(x)\r\n",
        "    \r\n",
        "    x = AveragePooling2D((2, 2), strides=(2, 2))(x)\r\n",
        "    return x"
      ],
      "execution_count": 10,
      "outputs": []
    },
    {
      "cell_type": "code",
      "metadata": {
        "id": "-WgsT-GcRHz6"
      },
      "source": [
        "def DenseNet(input_shape=None, dense_blocks=3, dense_layers=-1, growth_rate=12, nb_classes=None, dropout_rate=None,\r\n",
        "             bottleneck=False, compression=1.0, weight_decay=1e-4, depth=40):\r\n",
        "\r\n",
        "  \"\"\"\r\n",
        "  Creating a DenseNet\r\n",
        "  \r\n",
        "  Arguments:\r\n",
        "      input_shape  : shape of the input images. E.g. (28,28,1) for MNIST    \r\n",
        "      dense_blocks : amount of dense blocks that will be created (default: 3)    \r\n",
        "      dense_layers : number of layers in each dense block. You can also use a list for numbers of layers [2,4,3]\r\n",
        "                      or define only 2 to add 2 layers at all dense blocks. -1 means that dense_layers will be calculated\r\n",
        "                      by the given depth (default: -1)\r\n",
        "      growth_rate  : number of filters to add per dense block (default: 12)\r\n",
        "      nb_classes   : number of classes\r\n",
        "      dropout_rate : defines the dropout rate that is accomplished after each conv layer (except the first one).\r\n",
        "                      In the paper the authors recommend a dropout of 0.2 (default: None)\r\n",
        "      bottleneck   : (True / False) if true it will be added in convolution block (default: False)\r\n",
        "      compression  : reduce the number of feature-maps at transition layer. In the paper the authors recommend a compression\r\n",
        "                      of 0.5 (default: 1.0 - will have no compression effect)\r\n",
        "      weight_decay : weight decay of L2 regularization on weights (default: 1e-4)\r\n",
        "      depth        : number or layers (default: 40)\r\n",
        "      \r\n",
        "  Returns:\r\n",
        "      Model        : A Keras model instance\r\n",
        "  \"\"\"\r\n",
        "\r\n",
        "  if nb_classes==None:\r\n",
        "    raise Exception('Please define number of classes (e.g. num_classes=10). This is required for final softmax.')\r\n",
        "    \r\n",
        "  if compression <=0.0 or compression > 1.0:\r\n",
        "    raise Exception('Compression have to be a value between 0.0 and 1.0. If you set compression to 1.0 it will be turn off.')\r\n",
        "    \r\n",
        "  dense_layers = (depth - (dense_blocks + 1))//dense_blocks\r\n",
        "  \r\n",
        "        \r\n",
        "  img_input = Input(shape=input_shape)\r\n",
        "  nb_channels = growth_rate * 2\r\n",
        "    \r\n",
        "  print('Creating DenseNet')\r\n",
        "  print('#############################################')\r\n",
        "  print('Dense blocks: %s' % dense_blocks)\r\n",
        "  print('Layers per dense block: %s' % dense_layers)\r\n",
        "  print('#############################################')\r\n",
        "  \r\n",
        "  # Initial convolution layer\r\n",
        "  x = Conv2D(nb_channels, (3,3), padding='same',strides=(1,1),\r\n",
        "                    use_bias=False, kernel_regularizer=l2(weight_decay))(img_input)\r\n",
        "  \r\n",
        "  # Building dense blocks\r\n",
        "  for block in range(dense_blocks):\r\n",
        "      \r\n",
        "      # Add dense block\r\n",
        "      x, nb_channels = dense_block(x, dense_layers, nb_channels, growth_rate, dropout_rate, bottleneck, weight_decay)\r\n",
        "      \r\n",
        "      if block < dense_blocks - 1:  # if it's not the last dense block\r\n",
        "          # Add transition_block\r\n",
        "          x = transition_layer(x, nb_channels, dropout_rate, compression, weight_decay)\r\n",
        "          nb_channels = int(nb_channels * compression)\r\n",
        "  \r\n",
        "  x = BatchNormalization(gamma_regularizer=l2(weight_decay), beta_regularizer=l2(weight_decay))(x)\r\n",
        "  x = Activation('relu')(x)\r\n",
        "  x = GlobalAveragePooling2D()(x)\r\n",
        "  \r\n",
        "  x = Dense(nb_classes, activation='softmax', kernel_regularizer=l2(weight_decay), bias_regularizer=l2(weight_decay))(x)\r\n",
        "\r\n",
        "  return Model(inputs = img_input, outputs = x)"
      ],
      "execution_count": 11,
      "outputs": []
    },
    {
      "cell_type": "code",
      "metadata": {
        "id": "0jCC3ta_XDwD"
      },
      "source": [
        "def lr_schedule(epoch):\r\n",
        "  lr = 1e-2\r\n",
        "  if (epoch>180) :\r\n",
        "      lr *= 0.5e-3\r\n",
        "  elif epoch > 160:\r\n",
        "      lr *= 1e-3\r\n",
        "  elif epoch > 120:\r\n",
        "      lr *= 1e-2\r\n",
        "  elif epoch > 80:\r\n",
        "      lr *= 1e-1\r\n",
        "  return lr"
      ],
      "execution_count": 12,
      "outputs": []
    },
    {
      "cell_type": "code",
      "metadata": {
        "id": "HTIqCW5XXbMj"
      },
      "source": [
        "class MyCallback(keras.callbacks.Callback):\r\n",
        "    tstart = None\r\n",
        "    def on_train_begin(self, logs={}):\r\n",
        "        return\r\n",
        "    \r\n",
        "    def on_train_end(self, logs={}):\r\n",
        "        return\r\n",
        "    \r\n",
        "    def on_epoch_begin(self, epoch, logs={}):\r\n",
        "        self.tstart = time.time()\r\n",
        "        print('epoch:{:03d}'.format(epoch+1), end=', ')\r\n",
        "        return\r\n",
        "    \r\n",
        "    def on_epoch_end(self, epoch, logs={}):\r\n",
        "        print('loss:{:8.6f}, acc:{:8.6f},  val_loss:{:8.6f}, val_acc:{:8.6f},  val_acc-acc = {:5.2f}%,  lr:{:0.6f}  [{:0.2f} sec]'.format(\r\n",
        "                logs.get('loss'), logs.get('acc'),\r\n",
        "                logs.get('val_loss'), logs.get('val_acc'),\r\n",
        "                100*(logs.get('val_acc')-logs.get('acc')),\r\n",
        "                K.eval(self.model.optimizer.lr),\r\n",
        "                time.time()-self.tstart))\r\n",
        "        return\r\n",
        "    \r\n",
        "    def on_batch_begin(self, batch, logs={}):\r\n",
        "        return\r\n",
        "    \r\n",
        "    def on_batch_end(self, batch, logs={}):\r\n",
        "        return"
      ],
      "execution_count": 13,
      "outputs": []
    },
    {
      "cell_type": "code",
      "metadata": {
        "id": "zvh5AxtvXi3C"
      },
      "source": [
        "model = DenseNet(input_shape=input_shape, nb_classes=num_classes, depth=depth)\r\n",
        "    \r\n",
        "model.compile(loss=\"categorical_crossentropy\",\r\n",
        "              optimizer=Adam(lr=lr_schedule(0)),\r\n",
        "              metrics=['acc'])\r\n",
        "model.summary()"
      ],
      "execution_count": null,
      "outputs": []
    },
    {
      "cell_type": "code",
      "metadata": {
        "id": "67on7ovvYJnR"
      },
      "source": [
        "plot_model(model, show_shapes=True, dpi=48)"
      ],
      "execution_count": null,
      "outputs": []
    },
    {
      "cell_type": "code",
      "metadata": {
        "id": "EgSMdRbWYVyR"
      },
      "source": [
        "# Training parameters\r\n",
        "batch_size = 32  # orig paper trained all networks with batch_size=128\r\n",
        "epochs = 200\r\n",
        "\r\n",
        "# Prepare model model saving directory.\r\n",
        "model_name = 'densenet20-e{epoch:04d}-loss{loss:.3f}-acc{acc:.3f}-valloss{val_loss:.3f}-valacc{val_acc:.3f}.h5'\r\n",
        "if not os.path.isdir(save_dir):\r\n",
        "    os.makedirs(save_dir)\r\n",
        "filepath = os.path.join(save_dir, model_name)\r\n",
        "\r\n",
        "# Prepare callbacks for model saving and for learning rate adjustment.\r\n",
        "checkpoint = ModelCheckpoint(filepath=filepath,\r\n",
        "                             monitor='val_acc',\r\n",
        "                             verbose=1,\r\n",
        "                             save_best_only=True)\r\n",
        "\r\n",
        "lr_scheduler = LearningRateScheduler(lr_schedule)\r\n",
        "\r\n",
        "lr_reducer = ReduceLROnPlateau(factor=np.sqrt(0.1),\r\n",
        "                               cooldown=0,\r\n",
        "                               patience=5,\r\n",
        "                               min_lr=0.5e-6)\r\n",
        "\r\n",
        "# This will do preprocessing and realtime data augmentation:\r\n",
        "datagen = ImageDataGenerator(\r\n",
        "  featurewise_center=False,  # set input mean to 0 over the dataset\r\n",
        "  samplewise_center=False,  # set each sample mean to 0\r\n",
        "  featurewise_std_normalization=False,  # divide inputs by std of the dataset\r\n",
        "  samplewise_std_normalization=False,  # divide each input by its std\r\n",
        "  zca_whitening=False,  # apply ZCA whitening\r\n",
        "  rotation_range = 30,  # randomly rotate images in the range (degrees, 0 to 180)\r\n",
        "  zoom_range = 0.2, # Randomly zoom image \r\n",
        "  width_shift_range=0.1,  # randomly shift images horizontally (fraction of total width)\r\n",
        "  height_shift_range=0.1,  # randomly shift images vertically (fraction of total height)\r\n",
        "  horizontal_flip = True,  # randomly flip images\r\n",
        "  vertical_flip=False)  # randomly flip images\r\n",
        "\r\n",
        "# Compute quantities required for featurewise normalization\r\n",
        "# (std, mean, and principal components if ZCA whitening is applied).\r\n",
        "\r\n",
        "datagen.fit(x_train)\r\n",
        "\r\n",
        "\r\n",
        "# Fit the model on the batches generated by datagen.flow().\r\n",
        "history = model.fit(datagen.flow(x_train, t_train, batch_size=batch_size*2), \r\n",
        "                    validation_data=(x_test, t_test), epochs=epochs, verbose=0, \r\n",
        "                    workers=4, steps_per_epoch = int(x_train.shape[0]/batch_size), \r\n",
        "                    callbacks=[lr_reducer, lr_scheduler, MyCallback(), checkpoint])\r\n",
        "\r\n",
        "# Score trained model.\r\n",
        "scores = model.evaluate(x_test, t_test, verbose=1)\r\n",
        "print('Test loss:', scores[0])\r\n",
        "print('Test accuracy:', scores[1])"
      ],
      "execution_count": null,
      "outputs": []
    },
    {
      "cell_type": "code",
      "metadata": {
        "id": "mlcjgwxoZh4Z",
        "colab": {
          "base_uri": "https://localhost:8080/",
          "height": 497
        },
        "outputId": "11d9403c-e3cd-4b81-f99e-28ef9c233830"
      },
      "source": [
        "plt.figure(figsize=(10,8))\r\n",
        "plt.plot(history.history['acc'])\r\n",
        "plt.plot(history.history['val_acc'])\r\n",
        "plt.xlabel('Epochs')\r\n",
        "plt.ylabel('%')\r\n",
        "plt.legend(('acc','val-acc'))\r\n",
        "plt.grid(b=True)"
      ],
      "execution_count": null,
      "outputs": [
        {
          "output_type": "display_data",
          "data": {
            "image/png": "[encoded data removed]",
            "text/plain": [
              "<Figure size 720x576 with 1 Axes>"
            ]
          },
          "metadata": {
            "tags": [],
            "needs_background": "light"
          }
        }
      ]
    },
    {
      "cell_type": "code",
      "metadata": {
        "id": "3NRO4HZbtIFD"
      },
      "source": [
        "#print(x_train_mean)\r\n",
        "\r\n",
        "np.save('mean.npy', x_train_mean)"
      ],
      "execution_count": null,
      "outputs": []
    },
    {
      "cell_type": "code",
      "metadata": {
        "id": "oSCba44is8EX"
      },
      "source": [
        "#Idk which one works \r\n",
        "x_train = []\r\n",
        "x_train = None\r\n",
        "del x_train\r\n",
        "t_train = []\r\n",
        "t_train = None\r\n",
        "del t_train\r\n",
        "\r\n",
        "x_test = []\r\n",
        "x_test = None\r\n",
        "del x_test\r\n",
        "\r\n",
        "t_test = []\r\n",
        "t_test = None\r\n",
        "del t_test\r\n",
        "\r\n",
        "datagen = None\r\n",
        "del datagen\r\n",
        "\r\n",
        "history = None\r\n",
        "del history\r\n",
        "#Trying to release memory"
      ],
      "execution_count": null,
      "outputs": []
    },
    {
      "cell_type": "code",
      "metadata": {
        "id": "SoNeNGBZUTYF"
      },
      "source": [
        "test_imgs_paths = os.listdir('/content/drive/MyDrive/Xrays/test_images/')\r\n",
        "test_imgs = []\r\n",
        "for path in test_imgs_paths:\r\n",
        "  img = Image.open('/content/drive/MyDrive/Xrays/test_images/{test_image}'.format(test_image=path))\r\n",
        "  test_imgs.append(img)\r\n",
        "\r\n",
        "print(\"Loaded Test data\")"
      ],
      "execution_count": null,
      "outputs": []
    },
    {
      "cell_type": "code",
      "metadata": {
        "id": "gDja0tZehVAH"
      },
      "source": [
        "for i in range(len(test_imgs_paths)):\r\n",
        "  test_imgs[i]= resize(test_imgs[i], width, height)\r\n",
        "  test_imgs[i]= np.asarray(test_imgs[i])\r\n",
        "\r\n",
        "test_imgs = np.array(test_imgs, dtype=\"float32\")/255.0\r\n",
        "\r\n",
        "print(test_imgs.shape)"
      ],
      "execution_count": null,
      "outputs": []
    },
    {
      "cell_type": "code",
      "metadata": {
        "id": "5mC_A5qbfie_"
      },
      "source": [
        "test_imgs -= x_train_mean\r\n",
        "\r\n",
        "#test_imgs_mean = np.mean(test_imgs, axis=0)\r\n",
        "#test_imgs -= test_imgs_mean"
      ],
      "execution_count": null,
      "outputs": []
    },
    {
      "cell_type": "code",
      "metadata": {
        "id": "KnwYx7TGXWyP"
      },
      "source": [
        "predictions = model.predict(test_imgs)"
      ],
      "execution_count": null,
      "outputs": []
    },
    {
      "cell_type": "code",
      "metadata": {
        "id": "plMbHqvQUHHE"
      },
      "source": [
        "def getMaxIndex(list):\r\n",
        "  maxim= max(list)\r\n",
        "  for i in range(len(list)):\r\n",
        "    if maxim == list[i]:\r\n",
        "      return i"
      ],
      "execution_count": null,
      "outputs": []
    },
    {
      "cell_type": "code",
      "metadata": {
        "id": "cxUcLvM4UVnM"
      },
      "source": [
        "import csv\r\n",
        "\r\n",
        "with open('submission_resnet20_170p_DataGen_MaxPool_val_acc0.817.csv', mode='w') as submission_file:\r\n",
        "    submission_file = csv.writer(submission_file, delimiter=',', quotechar='\"', quoting=csv.QUOTE_MINIMAL)\r\n",
        "\r\n",
        "    submission_file.writerow(['file_name', 'class_id'])\r\n",
        "    j=0\r\n",
        "    for i  in predictions:\r\n",
        "      #print(\"image : {img} \\t\\tclass : {i}\".format(img=test_imgs_paths[j], i=getMaxIndex(i)))\r\n",
        "      submission_file.writerow(['{img}'.format(img=test_imgs_paths[j]), '{i}'.format(i=getMaxIndex(i))])\r\n",
        "      j+=1\r\n",
        "\r\n",
        "print(\"Done\")"
      ],
      "execution_count": null,
      "outputs": []
    }
  ]
}