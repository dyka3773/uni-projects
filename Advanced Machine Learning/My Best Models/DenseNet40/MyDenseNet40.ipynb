{
  "nbformat": 4,
  "nbformat_minor": 0,
  "metadata": {
    "colab": {
      "name": "MyDenseNet40.ipynb",
      "provenance": [],
      "collapsed_sections": [],
      "toc_visible": true
    },
    "kernelspec": {
      "name": "python3",
      "display_name": "Python 3"
    },
    "accelerator": "GPU"
  },
  "cells": [
    {
      "cell_type": "code",
      "metadata": {
        "colab": {
          "base_uri": "https://localhost:8080/"
        },
        "id": "ST5bPH8F3BfM",
        "outputId": "6111242f-8579-4047-a295-ae37636d8008"
      },
      "source": [
        "from google.colab import drive\r\n",
        "\r\n",
        "import matplotlib.pyplot as plt\r\n",
        "import matplotlib.image as mpimg\r\n",
        "import numpy as np\r\n",
        "import os\r\n",
        "import time\r\n",
        "from numpy.linalg import inv, norm\r\n",
        "from IPython.display import display \r\n",
        "import pandas\r\n",
        "\r\n",
        "\r\n",
        "drive.mount(\"/content/drive\")\r\n",
        "os.chdir('/content/drive/MyDrive/Xrays/')\r\n",
        "print('\\n',os.getcwd())\r\n",
        "print(\"\\n\")\r\n",
        "print(os.listdir())\r\n",
        "\r\n",
        "save_dir = os.path.join(os.getcwd(),'saved_models')\r\n",
        "\r\n",
        "##Imports for the Learning and the plotting\r\n",
        "import keras\r\n",
        "import tensorflow as tf\r\n",
        "\r\n",
        "from tensorflow.keras.utils import plot_model\r\n",
        "\r\n",
        "from tensorflow.keras.layers import Dense, Conv2D, BatchNormalization, Activation, Concatenate, \\\r\n",
        "                                    AveragePooling2D, Input, MaxPooling2D, GlobalAveragePooling2D\r\n",
        "from tensorflow.keras.optimizers import Adam\r\n",
        "from tensorflow.keras.callbacks import ModelCheckpoint, LearningRateScheduler, ReduceLROnPlateau\r\n",
        "from tensorflow.keras.regularizers import l2\r\n",
        "from tensorflow.keras import backend as K\r\n",
        "from tensorflow.keras.models import Model\r\n",
        "\r\n",
        "\r\n",
        "##Import for preprocessing\r\n",
        "from tensorflow.keras.preprocessing.image import ImageDataGenerator"
      ],
      "execution_count": 1,
      "outputs": [
        {
          "output_type": "stream",
          "text": [
            "Drive already mounted at /content/drive; to attempt to forcibly remount, call drive.mount(\"/content/drive\", force_remount=True).\n",
            "\n",
            " /content/drive/MyDrive/Xrays\n",
            "\n",
            "\n",
            "['labels_train.csv', 'train_images', 'saved_models', 'test_images', 'submission_resnet8_150p_DataGen.csv', 'submission_resnet20_128p.csv', 'submission_resnet20_256p.csv', 'model.png', 'submission_resnet20_170p_DataGen_MaxPool_val_acc0.8245.csv', 'mean.npy', 'to_upload']\n"
          ],
          "name": "stdout"
        }
      ]
    },
    {
      "cell_type": "code",
      "metadata": {
        "id": "MbvCbbLZ3R0r"
      },
      "source": [
        "from PIL import Image\r\n",
        "\r\n",
        "def resize(image_pil, width, height):\r\n",
        "    '''\r\n",
        "    Resize PIL image keeping ratio and using white background.\r\n",
        "    '''\r\n",
        "    ratio_w = width / image_pil.width\r\n",
        "    ratio_h = height / image_pil.height\r\n",
        "    if ratio_w < ratio_h:\r\n",
        "        # It must be fixed by width\r\n",
        "        resize_width = width\r\n",
        "        resize_height = round(ratio_w * image_pil.height)\r\n",
        "    else:\r\n",
        "        # Fixed by height\r\n",
        "        resize_width = round(ratio_h * image_pil.width)\r\n",
        "        resize_height = height\r\n",
        "    image_resize = image_pil.resize((resize_width, resize_height), Image.ANTIALIAS)\r\n",
        "    background = Image.new('RGBA', (width, height), (0, 0, 0, 255))\r\n",
        "    offset = (round((width - resize_width) / 2), round((height - resize_height) / 2))\r\n",
        "    background.paste(image_resize, offset)\r\n",
        "    return background.convert('RGB')\r\n",
        "\r\n",
        "width = height = 170"
      ],
      "execution_count": 2,
      "outputs": []
    },
    {
      "cell_type": "code",
      "metadata": {
        "colab": {
          "base_uri": "https://localhost:8080/"
        },
        "id": "MX3g603hDaop",
        "outputId": "591bcac7-91bf-4b11-d7ca-c08fcececaed"
      },
      "source": [
        "data= pandas.read_csv('/content/drive/MyDrive/Xrays/labels_train.csv', header=None, usecols=[0,1], names=['file_name', 'class_id'])\r\n",
        "#print(labels[1:])\r\n",
        "labels = data['class_id'].values\r\n",
        "labels = labels[1:]\r\n",
        "img_name = data['file_name'].values\r\n",
        "img_name = img_name[1:]\r\n",
        "\r\n",
        "#data_labels = np.array(data[1:])\r\n",
        "#print(data_labels.shape)   \r\n",
        "\r\n",
        "labels = np.array(labels)\r\n",
        "print(labels.shape)   \r\n",
        "print(labels)"
      ],
      "execution_count": 3,
      "outputs": [
        {
          "output_type": "stream",
          "text": [
            "(4672,)\n",
            "['1' '2' '2' ... '1' '1' '1']\n"
          ],
          "name": "stdout"
        }
      ]
    },
    {
      "cell_type": "code",
      "metadata": {
        "colab": {
          "base_uri": "https://localhost:8080/",
          "height": 266
        },
        "id": "yQwLkwhlUjW_",
        "outputId": "59af37e4-679a-43b5-edc5-2d2b5b9a1d28"
      },
      "source": [
        "class_0=class_1=class_2=0\r\n",
        "\r\n",
        "for i in labels:\r\n",
        "  if i=='0':\r\n",
        "    class_0 += 1\r\n",
        "  elif i=='1':\r\n",
        "    class_1 += 1\r\n",
        "  else:\r\n",
        "    class_2 += 1\r\n",
        "\r\n",
        "plt.subplot(111)\r\n",
        "plt.bar(['class_0','class_1','class_2'],[class_0, class_1, class_2])\r\n",
        "plt.show()"
      ],
      "execution_count": 4,
      "outputs": [
        {
          "output_type": "display_data",
          "data": {
            "image/png": "[encoded data removed]",
            "text/plain": [
              "<Figure size 432x288 with 1 Axes>"
            ]
          },
          "metadata": {
            "tags": [],
            "needs_background": "light"
          }
        }
      ]
    },
    {
      "cell_type": "code",
      "metadata": {
        "colab": {
          "base_uri": "https://localhost:8080/"
        },
        "id": "PCva8pf_c3jx",
        "outputId": "59a24d7b-6d33-4500-81e1-0646231ecab1"
      },
      "source": [
        "train_imgs = []\r\n",
        "for i in range(img_name.size):\r\n",
        "  img = Image.open('/content/drive/MyDrive/Xrays/train_images/{train_image}'.format(train_image=img_name[i]))\r\n",
        "  train_imgs.append(img)\r\n",
        "\r\n",
        "print(\"Loaded Training data\")"
      ],
      "execution_count": 5,
      "outputs": [
        {
          "output_type": "stream",
          "text": [
            "Loaded Training data\n"
          ],
          "name": "stdout"
        }
      ]
    },
    {
      "cell_type": "code",
      "metadata": {
        "id": "eV4NREswYRyf"
      },
      "source": [
        "for i in range(img_name.size):\r\n",
        "  train_imgs[i]= resize(train_imgs[i], width, height)"
      ],
      "execution_count": 6,
      "outputs": []
    },
    {
      "cell_type": "code",
      "metadata": {
        "id": "U7OLn8SdfHHx"
      },
      "source": [
        "for i in range(img_name.size):\r\n",
        "  train_imgs[i]= np.asarray(train_imgs[i])"
      ],
      "execution_count": 7,
      "outputs": []
    },
    {
      "cell_type": "code",
      "metadata": {
        "colab": {
          "base_uri": "https://localhost:8080/"
        },
        "id": "e22nwXUVgUy6",
        "outputId": "429ea998-0baf-4552-d958-dcae63e73ebf"
      },
      "source": [
        "train_imgs = np.array(train_imgs, dtype=\"float32\")/255.0\r\n",
        "\r\n",
        "print(train_imgs.shape)"
      ],
      "execution_count": 8,
      "outputs": [
        {
          "output_type": "stream",
          "text": [
            "(4672, 170, 170, 3)\n"
          ],
          "name": "stdout"
        }
      ]
    },
    {
      "cell_type": "code",
      "metadata": {
        "colab": {
          "base_uri": "https://localhost:8080/"
        },
        "id": "NbZC01ZN8UGU",
        "outputId": "e46c8ac5-1e58-47d7-b713-4d284ad2c1bb"
      },
      "source": [
        "depth = 40\r\n",
        "\r\n",
        "num_classes = 3\r\n",
        "\r\n",
        "from sklearn.model_selection import train_test_split\r\n",
        "\r\n",
        "x_train, x_test, y_train, y_test = train_test_split(train_imgs,labels, test_size=0.3)\r\n",
        "\r\n",
        "input_shape = x_train.shape[1:]\r\n",
        "\r\n",
        "x_train_mean = np.mean(x_train, axis=0)\r\n",
        "#print('x_train_mean:',x_train_mean)\r\n",
        "x_train -= x_train_mean\r\n",
        "x_test -= x_train_mean\r\n",
        "\r\n",
        "print('x_train shape:', x_train.shape)\r\n",
        "print(x_train.shape[0], 'train samples')\r\n",
        "print(x_test.shape[0], 'test samples')\r\n",
        "\r\n",
        "t_train = keras.utils.to_categorical(y_train, num_classes)\r\n",
        "t_test = keras.utils.to_categorical(y_test, num_classes)\r\n",
        "\r\n",
        "print('y_train (labels) shape:', y_train.shape)\r\n",
        "print('t_train (one-hot rep) shape:', t_train.shape)"
      ],
      "execution_count": 9,
      "outputs": [
        {
          "output_type": "stream",
          "text": [
            "x_train_mean: [[[1.0157702e-03 1.0157702e-03 1.0157702e-03]\n",
            "  [1.2951972e-03 1.2951972e-03 1.2951972e-03]\n",
            "  [1.7964863e-03 1.7964863e-03 1.7964863e-03]\n",
            "  ...\n",
            "  [1.5302513e-03 1.5302513e-03 1.5302513e-03]\n",
            "  [1.0169697e-03 1.0169697e-03 1.0169697e-03]\n",
            "  [5.2647362e-04 5.2647362e-04 5.2647362e-04]]\n",
            "\n",
            " [[9.6420228e-04 9.6420228e-04 9.6420228e-04]\n",
            "  [1.2484260e-03 1.2484260e-03 1.2484260e-03]\n",
            "  [1.8240692e-03 1.8240692e-03 1.8240692e-03]\n",
            "  ...\n",
            "  [1.6297895e-03 1.6297895e-03 1.6297895e-03]\n",
            "  [1.1836662e-03 1.1836662e-03 1.1836662e-03]\n",
            "  [6.4759853e-04 6.4759853e-04 6.4759853e-04]]\n",
            "\n",
            " [[2.0339391e-03 2.0339391e-03 2.0339391e-03]\n",
            "  [2.3013733e-03 2.3013733e-03 2.3013733e-03]\n",
            "  [2.9993402e-03 2.9993402e-03 2.9993402e-03]\n",
            "  ...\n",
            "  [2.5268337e-03 2.5268337e-03 2.5268337e-03]\n",
            "  [2.1838462e-03 2.1838462e-03 2.1838462e-03]\n",
            "  [1.4978712e-03 1.4978712e-03 1.4978712e-03]]\n",
            "\n",
            " ...\n",
            "\n",
            " [[5.8044010e-04 5.8044010e-04 5.8044010e-04]\n",
            "  [5.6724832e-04 5.6724832e-04 5.6724832e-04]\n",
            "  [5.9003424e-04 5.9003424e-04 5.9003424e-04]\n",
            "  ...\n",
            "  [3.4538587e-04 3.4538587e-04 3.4538587e-04]\n",
            "  [2.8062600e-04 2.8062600e-04 2.8062600e-04]\n",
            "  [1.7269293e-04 1.7269293e-04 1.7269293e-04]]\n",
            "\n",
            " [[5.4686097e-04 5.4686097e-04 5.4686097e-04]\n",
            "  [5.5045879e-04 5.5045879e-04 5.5045879e-04]\n",
            "  [5.6724832e-04 5.6724832e-04 5.6724832e-04]\n",
            "  ...\n",
            "  [3.0700967e-04 3.0700967e-04 3.0700967e-04]\n",
            "  [2.5664089e-04 2.5664089e-04 2.5664089e-04]\n",
            "  [1.2712119e-04 1.2712119e-04 1.2712119e-04]]\n",
            "\n",
            " [[3.5737845e-04 3.5737845e-04 3.5737845e-04]\n",
            "  [3.3099481e-04 3.3099481e-04 3.3099481e-04]\n",
            "  [4.0295019e-04 4.0295019e-04 4.0295019e-04]\n",
            "  ...\n",
            "  [1.1992565e-04 1.1992565e-04 1.1992565e-04]\n",
            "  [1.1512862e-04 1.1512862e-04 1.1512862e-04]\n",
            "  [1.6789591e-05 1.6789591e-05 1.6789591e-05]]]\n",
            "x_train shape: (3270, 170, 170, 3)\n",
            "3270 train samples\n",
            "1402 test samples\n",
            "y_train (labels) shape: (3270,)\n",
            "t_train (one-hot rep) shape: (3270, 3)\n"
          ],
          "name": "stdout"
        }
      ]
    },
    {
      "cell_type": "code",
      "metadata": {
        "id": "h0VZB6i-Z_ih",
        "colab": {
          "base_uri": "https://localhost:8080/"
        },
        "outputId": "145e85b0-6656-49ed-86ce-5bf19ee77c41"
      },
      "source": [
        "print(y_test)\r\n",
        "print(t_test)\r\n",
        "print(y_train)\r\n",
        "print(t_train)\r\n",
        "print(input_shape)"
      ],
      "execution_count": 10,
      "outputs": [
        {
          "output_type": "stream",
          "text": [
            "['1' '0' '2' ... '1' '0' '1']\n",
            "[[0. 1. 0.]\n",
            " [1. 0. 0.]\n",
            " [0. 0. 1.]\n",
            " ...\n",
            " [0. 1. 0.]\n",
            " [1. 0. 0.]\n",
            " [0. 1. 0.]]\n",
            "['0' '1' '1' ... '2' '2' '1']\n",
            "[[1. 0. 0.]\n",
            " [0. 1. 0.]\n",
            " [0. 1. 0.]\n",
            " ...\n",
            " [0. 0. 1.]\n",
            " [0. 0. 1.]\n",
            " [0. 1. 0.]]\n",
            "(170, 170, 3)\n"
          ],
          "name": "stdout"
        }
      ]
    },
    {
      "cell_type": "code",
      "metadata": {
        "id": "i_RW3XLc0z8Q"
      },
      "source": [
        "#Idk which one works \r\n",
        "train_imgs = []\r\n",
        "train_imgs = None\r\n",
        "del train_imgs\r\n",
        "labels = []\r\n",
        "labels = None\r\n",
        "del labels\r\n",
        "\r\n",
        "y_test = []\r\n",
        "y_test = None\r\n",
        "del y_test\r\n",
        "\r\n",
        "y_train = []\r\n",
        "y_train = None\r\n",
        "del y_train\r\n",
        "\r\n",
        "#Trying to release memory"
      ],
      "execution_count": 11,
      "outputs": []
    },
    {
      "cell_type": "code",
      "metadata": {
        "id": "UFuITuT-U-Eg"
      },
      "source": [
        "def dense_block(x, nb_layers, nb_channels, growth_rate, dropout_rate=None, bottleneck=False, weight_decay=1e-4):\r\n",
        "    \"\"\"\r\n",
        "    Creates a dense block and concatenates inputs\r\n",
        "    \"\"\"\r\n",
        "    \r\n",
        "    x_list = [x]\r\n",
        "    for i in range(nb_layers):\r\n",
        "        cb = convolution_block(x, growth_rate, dropout_rate, bottleneck, weight_decay)\r\n",
        "        x_list.append(cb)\r\n",
        "        x = Concatenate(axis=-1)(x_list)\r\n",
        "        nb_channels += growth_rate\r\n",
        "    return x, nb_channels\r\n",
        "\r\n",
        "def convolution_block(x, nb_channels, dropout_rate=None, bottleneck=False, weight_decay=1e-4):\r\n",
        "    \"\"\"\r\n",
        "    Creates a convolution block consisting of BN-ReLU-Conv.\r\n",
        "    Optional: bottleneck, dropout\r\n",
        "    \"\"\"\r\n",
        "    \r\n",
        "    # Bottleneck\r\n",
        "    if bottleneck:\r\n",
        "        bottleneckWidth = 4\r\n",
        "        x = BatchNormalization(gamma_regularizer=l2(weight_decay), beta_regularizer=l2(weight_decay))(x)\r\n",
        "        x = Activation('relu')(x)\r\n",
        "        x = Conv2D(nb_channels * bottleneckWidth, (1, 1), use_bias=False, kernel_regularizer=l2(weight_decay))(x)\r\n",
        "        # Dropout\r\n",
        "        if dropout_rate:\r\n",
        "            x = Dropout(dropout_rate)(x)\r\n",
        "    \r\n",
        "    # Standard (BN-ReLU-Conv)\r\n",
        "    x = BatchNormalization(gamma_regularizer=l2(weight_decay), beta_regularizer=l2(weight_decay))(x)\r\n",
        "    x = Activation('relu')(x)\r\n",
        "    x = Conv2D(nb_channels, (3, 3), padding='same', use_bias=False, kernel_regularizer=l2(weight_decay))(x)\r\n",
        "    \r\n",
        "    # Dropout\r\n",
        "    if dropout_rate:\r\n",
        "        x = Dropout(dropout_rate)(x)\r\n",
        "    \r\n",
        "    return x\r\n",
        "\r\n",
        "def transition_layer(x, nb_channels, dropout_rate=None, compression=1.0, weight_decay=1e-4):\r\n",
        "    \"\"\"\r\n",
        "    Creates a transition layer between dense blocks as transition, which do convolution and pooling.\r\n",
        "    Works as downsampling.\r\n",
        "    \"\"\"\r\n",
        "    \r\n",
        "    x = BatchNormalization(gamma_regularizer=l2(weight_decay), beta_regularizer=l2(weight_decay))(x)\r\n",
        "    x = Activation('relu')(x)\r\n",
        "    x = Conv2D(int(nb_channels*compression), (1, 1), padding='same',\r\n",
        "                      use_bias=False, kernel_regularizer=l2(weight_decay))(x)\r\n",
        "    \r\n",
        "    # Adding dropout\r\n",
        "    if dropout_rate:\r\n",
        "        x = Dropout(dropout_rate)(x)\r\n",
        "    \r\n",
        "    x = AveragePooling2D((2, 2), strides=(2, 2))(x)\r\n",
        "    return x"
      ],
      "execution_count": 12,
      "outputs": []
    },
    {
      "cell_type": "code",
      "metadata": {
        "id": "-WgsT-GcRHz6"
      },
      "source": [
        "def DenseNet(input_shape=None, dense_blocks=3, dense_layers=-1, growth_rate=12, nb_classes=None, dropout_rate=None,\r\n",
        "             bottleneck=False, compression=1.0, weight_decay=1e-4, depth=40):\r\n",
        "\r\n",
        "  \"\"\"\r\n",
        "  Creating a DenseNet\r\n",
        "  \r\n",
        "  Arguments:\r\n",
        "      input_shape  : shape of the input images. E.g. (28,28,1) for MNIST    \r\n",
        "      dense_blocks : amount of dense blocks that will be created (default: 3)    \r\n",
        "      dense_layers : number of layers in each dense block. You can also use a list for numbers of layers [2,4,3]\r\n",
        "                      or define only 2 to add 2 layers at all dense blocks. -1 means that dense_layers will be calculated\r\n",
        "                      by the given depth (default: -1)\r\n",
        "      growth_rate  : number of filters to add per dense block (default: 12)\r\n",
        "      nb_classes   : number of classes\r\n",
        "      dropout_rate : defines the dropout rate that is accomplished after each conv layer (except the first one).\r\n",
        "                      In the paper the authors recommend a dropout of 0.2 (default: None)\r\n",
        "      bottleneck   : (True / False) if true it will be added in convolution block (default: False)\r\n",
        "      compression  : reduce the number of feature-maps at transition layer. In the paper the authors recomment a compression\r\n",
        "                      of 0.5 (default: 1.0 - will have no compression effect)\r\n",
        "      weight_decay : weight decay of L2 regularization on weights (default: 1e-4)\r\n",
        "      depth        : number or layers (default: 40)\r\n",
        "      \r\n",
        "  Returns:\r\n",
        "      Model        : A Keras model instance\r\n",
        "  \"\"\"\r\n",
        "\r\n",
        "  if nb_classes==None:\r\n",
        "    raise Exception('Please define number of classes (e.g. num_classes=10). This is required for final softmax.')\r\n",
        "    \r\n",
        "  if compression <=0.0 or compression > 1.0:\r\n",
        "    raise Exception('Compression have to be a value between 0.0 and 1.0. If you set compression to 1.0 it will be turn off.')\r\n",
        "    \r\n",
        "  if type(dense_layers) is list:\r\n",
        "    if len(dense_layers) != dense_blocks:\r\n",
        "      raise AssertionError('Number of dense blocks have to be same length to specified layers')\r\n",
        "    elif dense_layers == -1:\r\n",
        "      if bottleneck:\r\n",
        "        dense_layers = (depth - (dense_blocks + 1))/dense_blocks                // 2\r\n",
        "      else:\r\n",
        "        dense_layers = (depth - (dense_blocks + 1))                             //dense_blocks\r\n",
        "      dense_layers = [int(dense_layers) for _ in range(dense_blocks)]\r\n",
        "    else:\r\n",
        "      dense_layers = [int(dense_layers) for _ in range(dense_blocks)]\r\n",
        "        \r\n",
        "  img_input = Input(shape=input_shape)\r\n",
        "  nb_channels = growth_rate * 2\r\n",
        "    \r\n",
        "  print('Creating DenseNet')\r\n",
        "  print('#############################################')\r\n",
        "  print('Dense blocks: %s' % dense_blocks)\r\n",
        "  print('Layers per dense block: %s' % dense_layers)\r\n",
        "  print('#############################################')\r\n",
        "  \r\n",
        "  # Initial convolution layer\r\n",
        "  x = Conv2D(nb_channels, (3,3), padding='same',strides=(1,1),\r\n",
        "                    use_bias=False, kernel_regularizer=l2(weight_decay))(img_input)\r\n",
        "  \r\n",
        "  # Building dense blocks\r\n",
        "  for block in range(dense_blocks):\r\n",
        "      \r\n",
        "      # Add dense block\r\n",
        "      x, nb_channels = dense_block(x, dense_layers, nb_channels, growth_rate, dropout_rate, bottleneck, weight_decay)\r\n",
        "      \r\n",
        "      if block < dense_blocks - 1:  # if it's not the last dense block\r\n",
        "          # Add transition_block\r\n",
        "          x = transition_layer(x, nb_channels, dropout_rate, compression, weight_decay)\r\n",
        "          nb_channels = int(nb_channels * compression)\r\n",
        "  \r\n",
        "  x = BatchNormalization(gamma_regularizer=l2(weight_decay), beta_regularizer=l2(weight_decay))(x)\r\n",
        "  x = Activation('relu')(x)\r\n",
        "  x = GlobalAveragePooling2D()(x)\r\n",
        "  \r\n",
        "  x = Dense(nb_classes, activation='softmax', kernel_regularizer=l2(weight_decay), bias_regularizer=l2(weight_decay))(x)\r\n",
        "\r\n",
        "  return Model(inputs = img_input, outputs = x)"
      ],
      "execution_count": 23,
      "outputs": []
    },
    {
      "cell_type": "code",
      "metadata": {
        "id": "0jCC3ta_XDwD"
      },
      "source": [
        "def lr_schedule(epoch):\r\n",
        "  lr = 1e-2\r\n",
        "  if (epoch>180) :\r\n",
        "      lr *= 0.5e-3\r\n",
        "  elif epoch > 160:\r\n",
        "      lr *= 1e-3\r\n",
        "  elif epoch > 120:\r\n",
        "      lr *= 1e-2\r\n",
        "  elif epoch > 80:\r\n",
        "      lr *= 1e-1\r\n",
        "  return lr"
      ],
      "execution_count": 24,
      "outputs": []
    },
    {
      "cell_type": "code",
      "metadata": {
        "id": "HTIqCW5XXbMj"
      },
      "source": [
        "class MyCallback(keras.callbacks.Callback):\r\n",
        "    tstart = None\r\n",
        "    def on_train_begin(self, logs={}):\r\n",
        "        return\r\n",
        "    \r\n",
        "    def on_train_end(self, logs={}):\r\n",
        "        return\r\n",
        "    \r\n",
        "    def on_epoch_begin(self, epoch, logs={}):\r\n",
        "        self.tstart = time.time()\r\n",
        "        print('epoch:{:03d}'.format(epoch+1), end=', ')\r\n",
        "        return\r\n",
        "    \r\n",
        "    def on_epoch_end(self, epoch, logs={}):\r\n",
        "        print('loss:{:8.6f}, acc:{:8.6f},  val_loss:{:8.6f}, val_acc:{:8.6f},  val_acc-acc = {:5.2f}%,  lr:{:0.6f}  [{:0.2f} sec]'.format(\r\n",
        "                logs.get('loss'), logs.get('acc'),\r\n",
        "                logs.get('val_loss'), logs.get('val_acc'),\r\n",
        "                100*(logs.get('val_acc')-logs.get('acc')),\r\n",
        "                K.eval(self.model.optimizer.lr),\r\n",
        "                time.time()-self.tstart))\r\n",
        "        return\r\n",
        "    \r\n",
        "    def on_batch_begin(self, batch, logs={}):\r\n",
        "        return\r\n",
        "    \r\n",
        "    def on_batch_end(self, batch, logs={}):\r\n",
        "        return"
      ],
      "execution_count": 25,
      "outputs": []
    },
    {
      "cell_type": "code",
      "metadata": {
        "id": "zvh5AxtvXi3C",
        "colab": {
          "base_uri": "https://localhost:8080/"
        },
        "outputId": "14a3d563-6022-4c7e-dbc8-986c7d911e88"
      },
      "source": [
        "model = DenseNet(input_shape=input_shape, nb_classes=num_classes, depth=depth)\r\n",
        "    \r\n",
        "model.compile(loss=\"categorical_crossentropy\",\r\n",
        "              optimizer=Adam(lr=lr_schedule(0)),\r\n",
        "              metrics=['acc'])\r\n",
        "model.summary()"
      ],
      "execution_count": 26,
      "outputs": [
        {
          "output_type": "stream",
          "text": [
            "Creating DenseNet\n",
            "#############################################\n",
            "Dense blocks: 3\n",
            "Layers per dense block: -1\n",
            "#############################################\n",
            "Model: \"model\"\n",
            "_________________________________________________________________\n",
            "Layer (type)                 Output Shape              Param #   \n",
            "=================================================================\n",
            "input_2 (InputLayer)         [(None, 170, 170, 3)]     0         \n",
            "_________________________________________________________________\n",
            "conv2d_1 (Conv2D)            (None, 170, 170, 24)      648       \n",
            "_________________________________________________________________\n",
            "batch_normalization (BatchNo (None, 170, 170, 24)      96        \n",
            "_________________________________________________________________\n",
            "activation (Activation)      (None, 170, 170, 24)      0         \n",
            "_________________________________________________________________\n",
            "conv2d_2 (Conv2D)            (None, 170, 170, 24)      576       \n",
            "_________________________________________________________________\n",
            "average_pooling2d (AveragePo (None, 85, 85, 24)        0         \n",
            "_________________________________________________________________\n",
            "batch_normalization_1 (Batch (None, 85, 85, 24)        96        \n",
            "_________________________________________________________________\n",
            "activation_1 (Activation)    (None, 85, 85, 24)        0         \n",
            "_________________________________________________________________\n",
            "conv2d_3 (Conv2D)            (None, 85, 85, 24)        576       \n",
            "_________________________________________________________________\n",
            "average_pooling2d_1 (Average (None, 42, 42, 24)        0         \n",
            "_________________________________________________________________\n",
            "batch_normalization_2 (Batch (None, 42, 42, 24)        96        \n",
            "_________________________________________________________________\n",
            "activation_2 (Activation)    (None, 42, 42, 24)        0         \n",
            "_________________________________________________________________\n",
            "global_average_pooling2d (Gl (None, 24)                0         \n",
            "_________________________________________________________________\n",
            "dense (Dense)                (None, 3)                 75        \n",
            "=================================================================\n",
            "Total params: 2,163\n",
            "Trainable params: 2,019\n",
            "Non-trainable params: 144\n",
            "_________________________________________________________________\n"
          ],
          "name": "stdout"
        }
      ]
    },
    {
      "cell_type": "code",
      "metadata": {
        "id": "67on7ovvYJnR",
        "colab": {
          "base_uri": "https://localhost:8080/",
          "height": 773
        },
        "outputId": "3e6ee6fb-f698-49d7-b5b3-abb453a5cef4"
      },
      "source": [
        "plot_model(model, show_shapes=True, dpi=48)"
      ],
      "execution_count": 27,
      "outputs": [
        {
          "output_type": "execute_result",
          "data": {
            "image/png": "[encoded data removed]",
            "text/plain": [
              "<IPython.core.display.Image object>"
            ]
          },
          "metadata": {
            "tags": []
          },
          "execution_count": 27
        }
      ]
    },
    {
      "cell_type": "code",
      "metadata": {
        "id": "EgSMdRbWYVyR",
        "colab": {
          "base_uri": "https://localhost:8080/"
        },
        "outputId": "cc21e52b-c382-4e78-fc46-c01b2d11dbf9"
      },
      "source": [
        "# Training parameters\r\n",
        "batch_size = 32  # orig paper trained all networks with batch_size=128\r\n",
        "epochs = 200\r\n",
        "\r\n",
        "# Prepare model model saving directory.\r\n",
        "model_name = 'densenet40-e{epoch:04d}-loss{loss:.3f}-acc{acc:.3f}-valloss{val_loss:.3f}-valacc{val_acc:.3f}.h5'\r\n",
        "if not os.path.isdir(save_dir):\r\n",
        "    os.makedirs(save_dir)\r\n",
        "filepath = os.path.join(save_dir, model_name)\r\n",
        "\r\n",
        "# Prepare callbacks for model saving and for learning rate adjustment.\r\n",
        "checkpoint = ModelCheckpoint(filepath=filepath,\r\n",
        "                             monitor='val_acc',\r\n",
        "                             verbose=1,\r\n",
        "                             save_best_only=True)\r\n",
        "\r\n",
        "lr_scheduler = LearningRateScheduler(lr_schedule)\r\n",
        "\r\n",
        "lr_reducer = ReduceLROnPlateau(factor=np.sqrt(0.1),\r\n",
        "                               cooldown=0,\r\n",
        "                               patience=5,\r\n",
        "                               min_lr=0.5e-6)\r\n",
        "\r\n",
        "# This will do preprocessing and realtime data augmentation:\r\n",
        "datagen = ImageDataGenerator(\r\n",
        "  featurewise_center=False,  # set input mean to 0 over the dataset\r\n",
        "  samplewise_center=False,  # set each sample mean to 0\r\n",
        "  featurewise_std_normalization=False,  # divide inputs by std of the dataset\r\n",
        "  samplewise_std_normalization=False,  # divide each input by its std\r\n",
        "  zca_whitening=False,  # apply ZCA whitening\r\n",
        "  rotation_range = 30,  # randomly rotate images in the range (degrees, 0 to 180)\r\n",
        "  zoom_range = 0.2, # Randomly zoom image \r\n",
        "  width_shift_range=0.1,  # randomly shift images horizontally (fraction of total width)\r\n",
        "  height_shift_range=0.1,  # randomly shift images vertically (fraction of total height)\r\n",
        "  horizontal_flip = True,  # randomly flip images\r\n",
        "  vertical_flip=False)  # randomly flip images\r\n",
        "\r\n",
        "# Compute quantities required for featurewise normalization\r\n",
        "# (std, mean, and principal components if ZCA whitening is applied).\r\n",
        "\r\n",
        "datagen.fit(x_train)\r\n",
        "\r\n",
        "\r\n",
        "# Fit the model on the batches generated by datagen.flow().\r\n",
        "history = model.fit(datagen.flow(x_train, t_train, batch_size=batch_size*4), \r\n",
        "                    validation_data=(x_test, t_test), epochs=epochs, verbose=0, \r\n",
        "                    workers=4, steps_per_epoch = int(x_train.shape[0]/batch_size), \r\n",
        "                    callbacks=[lr_reducer, lr_scheduler, MyCallback(), checkpoint])\r\n",
        "\r\n",
        "# Score trained model.\r\n",
        "scores = model.evaluate(x_test, t_test, verbose=1)\r\n",
        "print('Test loss:', scores[0])\r\n",
        "print('Test accuracy:', scores[1])"
      ],
      "execution_count": null,
      "outputs": [
        {
          "output_type": "stream",
          "text": [
            "epoch:001, loss:0.850218, acc:0.618450,  val_loss:1.440772, val_acc:0.482882,  val_acc-acc = -13.56%,  lr:0.010000  [72.34 sec]\n",
            "\n",
            "Epoch 00001: val_acc improved from -inf to 0.48288, saving model to /content/drive/MyDrive/Xrays/saved_models/densenet40-e0001-loss0.850-acc0.618-valloss1.441-valacc0.483.h5\n",
            "epoch:002, loss:0.777016, acc:0.649251,  val_loss:1.006562, val_acc:0.603424,  val_acc-acc = -4.58%,  lr:0.010000  [69.74 sec]\n",
            "\n",
            "Epoch 00002: val_acc improved from 0.48288 to 0.60342, saving model to /content/drive/MyDrive/Xrays/saved_models/densenet40-e0002-loss0.777-acc0.649-valloss1.007-valacc0.603.h5\n",
            "epoch:003, loss:0.765860, acc:0.654866,  val_loss:0.790323, val_acc:0.637661,  val_acc-acc = -1.72%,  lr:0.010000  [68.41 sec]\n",
            "\n",
            "Epoch 00003: val_acc improved from 0.60342 to 0.63766, saving model to /content/drive/MyDrive/Xrays/saved_models/densenet40-e0003-loss0.766-acc0.655-valloss0.790-valacc0.638.h5\n",
            "epoch:004, loss:0.752309, acc:0.667810,  val_loss:0.869906, val_acc:0.619116,  val_acc-acc = -4.87%,  lr:0.010000  [68.02 sec]\n",
            "\n",
            "Epoch 00004: val_acc did not improve from 0.63766\n",
            "epoch:005, loss:0.760032, acc:0.665237,  val_loss:0.769050, val_acc:0.644080,  val_acc-acc = -2.12%,  lr:0.010000  [67.70 sec]\n",
            "\n",
            "Epoch 00005: val_acc improved from 0.63766 to 0.64408, saving model to /content/drive/MyDrive/Xrays/saved_models/densenet40-e0005-loss0.760-acc0.665-valloss0.769-valacc0.644.h5\n",
            "epoch:006, loss:0.745417, acc:0.674049,  val_loss:1.314888, val_acc:0.535663,  val_acc-acc = -13.84%,  lr:0.010000  [67.95 sec]\n",
            "\n",
            "Epoch 00006: val_acc did not improve from 0.64408\n",
            "epoch:007, loss:0.735760, acc:0.677480,  val_loss:0.884955, val_acc:0.545649,  val_acc-acc = -13.18%,  lr:0.010000  [66.53 sec]\n",
            "\n",
            "Epoch 00007: val_acc did not improve from 0.64408\n",
            "epoch:008, loss:0.740141, acc:0.679741,  val_loss:0.999299, val_acc:0.609843,  val_acc-acc = -6.99%,  lr:0.010000  [67.21 sec]\n",
            "\n",
            "Epoch 00008: val_acc did not improve from 0.64408\n",
            "epoch:009, loss:0.726530, acc:0.685356,  val_loss:0.837506, val_acc:0.586305,  val_acc-acc = -9.91%,  lr:0.010000  [66.52 sec]\n",
            "\n",
            "Epoch 00009: val_acc did not improve from 0.64408\n",
            "epoch:010, loss:0.729175, acc:0.683640,  val_loss:1.528052, val_acc:0.476462,  val_acc-acc = -20.72%,  lr:0.003162  [66.22 sec]\n",
            "\n",
            "Epoch 00010: val_acc did not improve from 0.64408\n",
            "epoch:011, loss:0.728347, acc:0.684654,  val_loss:0.809767, val_acc:0.630528,  val_acc-acc = -5.41%,  lr:0.010000  [66.13 sec]\n",
            "\n",
            "Epoch 00011: val_acc did not improve from 0.64408\n",
            "epoch:012, loss:0.727987, acc:0.679429,  val_loss:0.749086, val_acc:0.671897,  val_acc-acc = -0.75%,  lr:0.010000  [66.46 sec]\n",
            "\n",
            "Epoch 00012: val_acc improved from 0.64408 to 0.67190, saving model to /content/drive/MyDrive/Xrays/saved_models/densenet40-e0012-loss0.728-acc0.679-valloss0.749-valacc0.672.h5\n",
            "epoch:013, loss:0.727109, acc:0.685122,  val_loss:1.706237, val_acc:0.468616,  val_acc-acc = -21.65%,  lr:0.010000  [67.02 sec]\n",
            "\n",
            "Epoch 00013: val_acc did not improve from 0.67190\n",
            "epoch:014, loss:0.729339, acc:0.684264,  val_loss:0.772073, val_acc:0.646220,  val_acc-acc = -3.80%,  lr:0.010000  [66.67 sec]\n",
            "\n",
            "Epoch 00014: val_acc did not improve from 0.67190\n",
            "epoch:015, loss:0.724333, acc:0.690034,  val_loss:0.973925, val_acc:0.613409,  val_acc-acc = -7.66%,  lr:0.010000  [66.28 sec]\n",
            "\n",
            "Epoch 00015: val_acc did not improve from 0.67190\n",
            "epoch:016, loss:0.723040, acc:0.688007,  val_loss:1.282738, val_acc:0.580599,  val_acc-acc = -10.74%,  lr:0.010000  [66.38 sec]\n",
            "\n",
            "Epoch 00016: val_acc did not improve from 0.67190\n",
            "epoch:017, loss:0.714741, acc:0.691438,  val_loss:0.842147, val_acc:0.590585,  val_acc-acc = -10.09%,  lr:0.003162  [66.77 sec]\n",
            "\n",
            "Epoch 00017: val_acc did not improve from 0.67190\n",
            "epoch:018, loss:0.715321, acc:0.691906,  val_loss:0.768106, val_acc:0.654066,  val_acc-acc = -3.78%,  lr:0.010000  [65.99 sec]\n",
            "\n",
            "Epoch 00018: val_acc did not improve from 0.67190\n",
            "epoch:019, loss:0.713453, acc:0.695493,  val_loss:0.752818, val_acc:0.673324,  val_acc-acc = -2.22%,  lr:0.010000  [65.88 sec]\n",
            "\n",
            "Epoch 00019: val_acc improved from 0.67190 to 0.67332, saving model to /content/drive/MyDrive/Xrays/saved_models/densenet40-e0019-loss0.713-acc0.695-valloss0.753-valacc0.673.h5\n",
            "epoch:020, loss:0.716510, acc:0.696117,  val_loss:0.798012, val_acc:0.621969,  val_acc-acc = -7.41%,  lr:0.010000  [65.93 sec]\n",
            "\n",
            "Epoch 00020: val_acc did not improve from 0.67332\n",
            "epoch:021, loss:0.709065, acc:0.698612,  val_loss:0.775531, val_acc:0.654066,  val_acc-acc = -4.45%,  lr:0.010000  [65.77 sec]\n",
            "\n",
            "Epoch 00021: val_acc did not improve from 0.67332\n",
            "epoch:022, loss:0.704123, acc:0.701965,  val_loss:0.822577, val_acc:0.631241,  val_acc-acc = -7.07%,  lr:0.003162  [65.61 sec]\n",
            "\n",
            "Epoch 00022: val_acc did not improve from 0.67332\n",
            "epoch:023, loss:0.706927, acc:0.700951,  val_loss:0.993454, val_acc:0.600571,  val_acc-acc = -10.04%,  lr:0.010000  [66.16 sec]\n",
            "\n",
            "Epoch 00023: val_acc did not improve from 0.67332\n",
            "epoch:024, loss:0.702143, acc:0.703213,  val_loss:2.153588, val_acc:0.380171,  val_acc-acc = -32.30%,  lr:0.010000  [66.18 sec]\n",
            "\n",
            "Epoch 00024: val_acc did not improve from 0.67332\n",
            "epoch:025, loss:0.713908, acc:0.700172,  val_loss:0.840180, val_acc:0.609130,  val_acc-acc = -9.10%,  lr:0.010000  [66.17 sec]\n",
            "\n",
            "Epoch 00025: val_acc did not improve from 0.67332\n",
            "epoch:026, loss:0.700738, acc:0.706254,  val_loss:1.666629, val_acc:0.498573,  val_acc-acc = -20.77%,  lr:0.010000  [65.89 sec]\n",
            "\n",
            "Epoch 00026: val_acc did not improve from 0.67332\n",
            "epoch:027, loss:0.703206, acc:0.703447,  val_loss:0.788040, val_acc:0.643367,  val_acc-acc = -6.01%,  lr:0.003162  [66.11 sec]\n",
            "\n",
            "Epoch 00027: val_acc did not improve from 0.67332\n",
            "epoch:028, loss:0.708115, acc:0.701887,  val_loss:0.876289, val_acc:0.547076,  val_acc-acc = -15.48%,  lr:0.010000  [66.58 sec]\n",
            "\n",
            "Epoch 00028: val_acc did not improve from 0.67332\n",
            "epoch:029, loss:0.695787, acc:0.711167,  val_loss:0.911150, val_acc:0.564907,  val_acc-acc = -14.63%,  lr:0.010000  [65.54 sec]\n",
            "\n",
            "Epoch 00029: val_acc did not improve from 0.67332\n",
            "epoch:030, loss:0.691009, acc:0.717093,  val_loss:0.978167, val_acc:0.582026,  val_acc-acc = -13.51%,  lr:0.010000  [65.80 sec]\n",
            "\n",
            "Epoch 00030: val_acc did not improve from 0.67332\n",
            "epoch:031, loss:0.696652, acc:0.707814,  val_loss:1.062742, val_acc:0.528531,  val_acc-acc = -17.93%,  lr:0.010000  [65.87 sec]\n",
            "\n",
            "Epoch 00031: val_acc did not improve from 0.67332\n",
            "epoch:032, loss:0.691842, acc:0.714598,  val_loss:0.889095, val_acc:0.603424,  val_acc-acc = -11.12%,  lr:0.003162  [65.82 sec]\n",
            "\n",
            "Epoch 00032: val_acc did not improve from 0.67332\n",
            "epoch:033, loss:0.700355, acc:0.705630,  val_loss:0.850796, val_acc:0.570613,  val_acc-acc = -13.50%,  lr:0.010000  [66.10 sec]\n",
            "\n",
            "Epoch 00033: val_acc did not improve from 0.67332\n",
            "epoch:034, loss:0.689550, acc:0.717093,  val_loss:1.191187, val_acc:0.486448,  val_acc-acc = -23.06%,  lr:0.010000  [65.98 sec]\n",
            "\n",
            "Epoch 00034: val_acc did not improve from 0.67332\n",
            "epoch:035, loss:0.700515, acc:0.711303,  val_loss:2.216931, val_acc:0.514979,  val_acc-acc = -19.63%,  lr:0.010000  [65.73 sec]\n",
            "\n",
            "Epoch 00035: val_acc did not improve from 0.67332\n",
            "epoch:036, loss:0.690037, acc:0.719354,  val_loss:0.826059, val_acc:0.636234,  val_acc-acc = -8.31%,  lr:0.010000  [65.73 sec]\n",
            "\n",
            "Epoch 00036: val_acc did not improve from 0.67332\n",
            "epoch:037, loss:0.686354, acc:0.719120,  val_loss:0.871127, val_acc:0.626248,  val_acc-acc = -9.29%,  lr:0.003162  [65.79 sec]\n",
            "\n",
            "Epoch 00037: val_acc did not improve from 0.67332\n",
            "epoch:038, loss:0.680809, acc:0.722785,  val_loss:0.790603, val_acc:0.679030,  val_acc-acc = -4.38%,  lr:0.010000  [65.71 sec]\n",
            "\n",
            "Epoch 00038: val_acc improved from 0.67332 to 0.67903, saving model to /content/drive/MyDrive/Xrays/saved_models/densenet40-e0038-loss0.681-acc0.723-valloss0.791-valacc0.679.h5\n",
            "epoch:039, loss:0.677139, acc:0.723721,  val_loss:0.784787, val_acc:0.661912,  val_acc-acc = -6.18%,  lr:0.010000  [65.81 sec]\n",
            "\n",
            "Epoch 00039: val_acc did not improve from 0.67903\n",
            "epoch:040, loss:0.681781, acc:0.723487,  val_loss:0.875016, val_acc:0.626248,  val_acc-acc = -9.72%,  lr:0.010000  [65.74 sec]\n",
            "\n",
            "Epoch 00040: val_acc did not improve from 0.67903\n",
            "epoch:041, loss:0.682756, acc:0.721616,  val_loss:1.242225, val_acc:0.413695,  val_acc-acc = -30.79%,  lr:0.010000  [65.18 sec]\n",
            "\n",
            "Epoch 00041: val_acc did not improve from 0.67903\n",
            "epoch:042, loss:0.674104, acc:0.726528,  val_loss:0.797263, val_acc:0.637661,  val_acc-acc = -8.89%,  lr:0.003162  [65.80 sec]\n",
            "\n",
            "Epoch 00042: val_acc did not improve from 0.67903\n",
            "epoch:043, "
          ],
          "name": "stdout"
        }
      ]
    },
    {
      "cell_type": "code",
      "metadata": {
        "id": "mlcjgwxoZh4Z"
      },
      "source": [
        "plt.figure(figsize=(10,8))\r\n",
        "plt.plot(history.history['acc'])\r\n",
        "plt.plot(history.history['val_acc'])\r\n",
        "plt.xlabel('Epochs')\r\n",
        "plt.ylabel('%')\r\n",
        "plt.legend(('acc','val-acc'))\r\n",
        "plt.grid(b=True)"
      ],
      "execution_count": null,
      "outputs": []
    },
    {
      "cell_type": "code",
      "metadata": {
        "id": "3NRO4HZbtIFD"
      },
      "source": [
        "#print(x_train_mean)\r\n",
        "\r\n",
        "np.save('mean.npy', x_train_mean)"
      ],
      "execution_count": null,
      "outputs": []
    },
    {
      "cell_type": "code",
      "metadata": {
        "id": "oSCba44is8EX"
      },
      "source": [
        "#Idk which one works \r\n",
        "x_train = []\r\n",
        "x_train = None\r\n",
        "del x_train\r\n",
        "t_train = []\r\n",
        "t_train = None\r\n",
        "del t_train\r\n",
        "\r\n",
        "x_test = []\r\n",
        "x_test = None\r\n",
        "del x_test\r\n",
        "\r\n",
        "t_test = []\r\n",
        "t_test = None\r\n",
        "del t_test\r\n",
        "\r\n",
        "datagen = None\r\n",
        "del datagen\r\n",
        "\r\n",
        "history = None\r\n",
        "del history\r\n",
        "#Trying to release memory"
      ],
      "execution_count": null,
      "outputs": []
    },
    {
      "cell_type": "code",
      "metadata": {
        "id": "SoNeNGBZUTYF"
      },
      "source": [
        "test_imgs_paths = os.listdir('/content/drive/MyDrive/Xrays/test_images/')\r\n",
        "test_imgs = []\r\n",
        "for path in test_imgs_paths:\r\n",
        "  img = Image.open('/content/drive/MyDrive/Xrays/test_images/{test_image}'.format(test_image=path))\r\n",
        "  test_imgs.append(img)\r\n",
        "\r\n",
        "print(\"Loaded Test data\")"
      ],
      "execution_count": null,
      "outputs": []
    },
    {
      "cell_type": "code",
      "metadata": {
        "id": "gDja0tZehVAH"
      },
      "source": [
        "for i in range(len(test_imgs_paths)):\r\n",
        "  test_imgs[i]= resize(test_imgs[i], width, height)\r\n",
        "  test_imgs[i]= np.asarray(test_imgs[i])\r\n",
        "\r\n",
        "test_imgs = np.array(test_imgs, dtype=\"float32\")/255.0\r\n",
        "\r\n",
        "print(test_imgs.shape)"
      ],
      "execution_count": null,
      "outputs": []
    },
    {
      "cell_type": "code",
      "metadata": {
        "id": "5mC_A5qbfie_"
      },
      "source": [
        "test_imgs -= x_train_mean\r\n",
        "\r\n",
        "#test_imgs_mean = np.mean(test_imgs, axis=0)\r\n",
        "#test_imgs -= test_imgs_mean"
      ],
      "execution_count": null,
      "outputs": []
    },
    {
      "cell_type": "code",
      "metadata": {
        "id": "KnwYx7TGXWyP"
      },
      "source": [
        "predictions = model.predict(test_imgs)"
      ],
      "execution_count": null,
      "outputs": []
    },
    {
      "cell_type": "code",
      "metadata": {
        "id": "plMbHqvQUHHE"
      },
      "source": [
        "def getMaxIndex(list):\r\n",
        "  maxim= max(list)\r\n",
        "  for i in range(len(list)):\r\n",
        "    if maxim == list[i]:\r\n",
        "      return i"
      ],
      "execution_count": null,
      "outputs": []
    },
    {
      "cell_type": "code",
      "metadata": {
        "id": "cxUcLvM4UVnM"
      },
      "source": [
        "import csv\r\n",
        "\r\n",
        "with open('submission_resnet20_170p_DataGen_MaxPool_val_acc0.817.csv', mode='w') as submission_file:\r\n",
        "    submission_file = csv.writer(submission_file, delimiter=',', quotechar='\"', quoting=csv.QUOTE_MINIMAL)\r\n",
        "\r\n",
        "    submission_file.writerow(['file_name', 'class_id'])\r\n",
        "    j=0\r\n",
        "    for i  in predictions:\r\n",
        "      #print(\"image : {img} \\t\\tclass : {i}\".format(img=test_imgs_paths[j], i=getMaxIndex(i)))\r\n",
        "      submission_file.writerow(['{img}'.format(img=test_imgs_paths[j]), '{i}'.format(i=getMaxIndex(i))])\r\n",
        "      j+=1\r\n",
        "\r\n",
        "print(\"Done\")"
      ],
      "execution_count": null,
      "outputs": []
    }
  ]
}