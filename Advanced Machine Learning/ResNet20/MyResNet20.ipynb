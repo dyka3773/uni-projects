{
  "nbformat": 4,
  "nbformat_minor": 0,
  "metadata": {
    "colab": {
      "name": "MyResNet20.ipynb",
      "provenance": [],
      "collapsed_sections": []
    },
    "kernelspec": {
      "name": "python3",
      "display_name": "Python 3"
    },
    "accelerator": "GPU"
  },
  "cells": [
    {
      "cell_type": "code",
      "metadata": {
        "colab": {
          "base_uri": "https://localhost:8080/"
        },
        "id": "ST5bPH8F3BfM",
        "outputId": "94854a9d-8c4a-482c-a5e7-5b50590cf8c5"
      },
      "source": [
        "from google.colab import drive\r\n",
        "\r\n",
        "import matplotlib.pyplot as plt\r\n",
        "import matplotlib.image as mpimg\r\n",
        "import numpy as np\r\n",
        "import os\r\n",
        "import time\r\n",
        "from numpy.linalg import inv, norm\r\n",
        "from IPython.display import display \r\n",
        "import pandas\r\n",
        "\r\n",
        "\r\n",
        "drive.mount(\"/content/drive\")\r\n",
        "os.chdir('/content/drive/MyDrive/Xrays/')\r\n",
        "print('\\n',os.getcwd())\r\n",
        "print(\"\\n\")\r\n",
        "print(os.listdir())\r\n",
        "\r\n",
        "save_dir = os.path.join(os.getcwd(),'saved_models')\r\n",
        "\r\n",
        "##Imports for the Learning and the plotting\r\n",
        "import keras\r\n",
        "import tensorflow as tf\r\n",
        "\r\n",
        "from tensorflow.keras.utils import plot_model\r\n",
        "from tensorflow.keras.layers import Dense, Conv2D, BatchNormalization, Activation, Concatenate, \\\r\n",
        "                                    AveragePooling2D, Input, Flatten, MaxPooling2D\r\n",
        "from tensorflow.keras.optimizers import Adam\r\n",
        "from tensorflow.keras.callbacks import ModelCheckpoint, LearningRateScheduler\r\n",
        "from tensorflow.keras.callbacks import ReduceLROnPlateau\r\n",
        "from tensorflow.keras.regularizers import l2\r\n",
        "from tensorflow.keras import backend as K\r\n",
        "from tensorflow.keras.models import Model\r\n",
        "\r\n",
        "\r\n",
        "##Import for preprocessing\r\n",
        "from tensorflow.keras.preprocessing.image import ImageDataGenerator"
      ],
      "execution_count": null,
      "outputs": [
        {
          "output_type": "stream",
          "text": [
            "Drive already mounted at /content/drive; to attempt to forcibly remount, call drive.mount(\"/content/drive\", force_remount=True).\n",
            "\n",
            " /content/drive/MyDrive/Xrays\n",
            "\n",
            "\n",
            "['labels_train.csv', 'sample_submission.csv', 'labels_train.xlsx', 'train_images', 'saved_models', 'test_images', 'submission_resnet8_150p_DataGen.csv', 'submission_resnet20_128p.csv', 'submission_resnet20_256p.csv', 'model.png']\n"
          ],
          "name": "stdout"
        }
      ]
    },
    {
      "cell_type": "code",
      "metadata": {
        "id": "MbvCbbLZ3R0r"
      },
      "source": [
        "from PIL import Image\r\n",
        "\r\n",
        "def resize(image_pil, width, height):\r\n",
        "    '''\r\n",
        "    Resize PIL image keeping ratio and using white background.\r\n",
        "    '''\r\n",
        "    ratio_w = width / image_pil.width\r\n",
        "    ratio_h = height / image_pil.height\r\n",
        "    if ratio_w < ratio_h:\r\n",
        "        # It must be fixed by width\r\n",
        "        resize_width = width\r\n",
        "        resize_height = round(ratio_w * image_pil.height)\r\n",
        "    else:\r\n",
        "        # Fixed by height\r\n",
        "        resize_width = round(ratio_h * image_pil.width)\r\n",
        "        resize_height = height\r\n",
        "    image_resize = image_pil.resize((resize_width, resize_height), Image.ANTIALIAS)\r\n",
        "    background = Image.new('RGBA', (width, height), (0, 0, 0, 255))\r\n",
        "    offset = (round((width - resize_width) / 2), round((height - resize_height) / 2))\r\n",
        "    background.paste(image_resize, offset)\r\n",
        "    return background.convert('RGB')\r\n",
        "\r\n",
        "width = height = 170"
      ],
      "execution_count": null,
      "outputs": []
    },
    {
      "cell_type": "code",
      "metadata": {
        "colab": {
          "base_uri": "https://localhost:8080/"
        },
        "id": "MX3g603hDaop",
        "outputId": "16510e16-f6f8-4efd-8ceb-6a7adf195719"
      },
      "source": [
        "data= pandas.read_csv('/content/drive/MyDrive/Xrays/labels_train.csv', header=None, usecols=[0,1], names=['file_name', 'class_id'])\r\n",
        "\r\n",
        "labels = data['class_id'].values\r\n",
        "labels = labels[1:]\r\n",
        "img_name = data['file_name'].values\r\n",
        "img_name = img_name[1:]\r\n",
        "\r\n",
        "labels = np.array(labels)\r\n",
        "print(labels.shape)   \r\n",
        "print(labels)"
      ],
      "execution_count": null,
      "outputs": [
        {
          "output_type": "stream",
          "text": [
            "(4672,)\n",
            "['1' '2' '2' ... '1' '1' '1']\n"
          ],
          "name": "stdout"
        }
      ]
    },
    {
      "cell_type": "code",
      "metadata": {
        "id": "yQwLkwhlUjW_"
      },
      "source": [
        "class_0=class_1=class_2=0\r\n",
        "\r\n",
        "for i in labels:\r\n",
        "  if i=='0':\r\n",
        "    class_0 += 1\r\n",
        "  elif i=='1':\r\n",
        "    class_1 += 1\r\n",
        "  else:\r\n",
        "    class_2 += 1\r\n",
        "\r\n",
        "plt.subplot(111)\r\n",
        "plt.bar(['class_0','class_1','class_2'],[class_0, class_1, class_2])\r\n",
        "plt.show()"
      ],
      "execution_count": null,
      "outputs": []
    },
    {
      "cell_type": "code",
      "metadata": {
        "id": "PCva8pf_c3jx"
      },
      "source": [
        "train_imgs = []\r\n",
        "for i in range(img_name.size):\r\n",
        "  img = Image.open('/content/drive/MyDrive/Xrays/train_images/{train_image}'.format(train_image=img_name[i]))\r\n",
        "  train_imgs.append(img)\r\n",
        "\r\n",
        "print(\"Loaded Training data\")"
      ],
      "execution_count": null,
      "outputs": []
    },
    {
      "cell_type": "code",
      "metadata": {
        "id": "eV4NREswYRyf"
      },
      "source": [
        "for i in range(img_name.size):\r\n",
        "  train_imgs[i]= resize(train_imgs[i], width, height)"
      ],
      "execution_count": null,
      "outputs": []
    },
    {
      "cell_type": "code",
      "metadata": {
        "id": "U7OLn8SdfHHx"
      },
      "source": [
        "for i in range(img_name.size):\r\n",
        "  train_imgs[i]= np.asarray(train_imgs[i])"
      ],
      "execution_count": null,
      "outputs": []
    },
    {
      "cell_type": "code",
      "metadata": {
        "id": "e22nwXUVgUy6"
      },
      "source": [
        "train_imgs = np.array(train_imgs, dtype=\"float32\")/255.0\r\n",
        "\r\n",
        "print(train_imgs.shape)"
      ],
      "execution_count": null,
      "outputs": []
    },
    {
      "cell_type": "code",
      "metadata": {
        "id": "NbZC01ZN8UGU"
      },
      "source": [
        "depth = 20\r\n",
        "\r\n",
        "num_classes = 3\r\n",
        "\r\n",
        "from sklearn.model_selection import train_test_split\r\n",
        "\r\n",
        "x_train, x_test, y_train, y_test = train_test_split(train_imgs,labels, test_size=0.3)\r\n",
        "\r\n",
        "input_shape = x_train.shape[1:]\r\n",
        "\r\n",
        "x_train_mean = np.mean(x_train, axis=0)\r\n",
        "print('x_train_mean:',x_train_mean)\r\n",
        "x_train -= x_train_mean\r\n",
        "x_test -= x_train_mean\r\n",
        "\r\n",
        "print('x_train shape:', x_train.shape)\r\n",
        "print(x_train.shape[0], 'train samples')\r\n",
        "print(x_test.shape[0], 'test samples')\r\n",
        "\r\n",
        "t_train = keras.utils.to_categorical(y_train, num_classes)\r\n",
        "t_test = keras.utils.to_categorical(y_test, num_classes)\r\n",
        "\r\n",
        "print('y_train (labels) shape:', y_train.shape)\r\n",
        "print('t_train (one-hot rep) shape:', t_train.shape)"
      ],
      "execution_count": null,
      "outputs": []
    },
    {
      "cell_type": "code",
      "metadata": {
        "id": "i_RW3XLc0z8Q"
      },
      "source": [
        "#Releasing Memory\r\n",
        "train_imgs = []\r\n",
        "train_imgs = None\r\n",
        "del train_imgs\r\n",
        "labels = []\r\n",
        "labels = None\r\n",
        "del labels\r\n",
        "\r\n",
        "y_test = []\r\n",
        "y_test = None\r\n",
        "del y_test\r\n",
        "\r\n",
        "y_train = []\r\n",
        "y_train = None\r\n",
        "del y_train"
      ],
      "execution_count": null,
      "outputs": []
    },
    {
      "cell_type": "code",
      "metadata": {
        "id": "ksB30HrvWXFb"
      },
      "source": [
        "def resnet_layer(inputs,\r\n",
        "                 num_filters=16,\r\n",
        "                 kernel_size=3,\r\n",
        "                 strides=1,\r\n",
        "                 activation='relu',\r\n",
        "                 batch_normalization=True,\r\n",
        "                 conv_first=True):\r\n",
        "    conv = Conv2D(num_filters,\r\n",
        "                  kernel_size=kernel_size,\r\n",
        "                  strides=strides,\r\n",
        "                  padding='same',\r\n",
        "                  kernel_initializer='he_normal',\r\n",
        "                  kernel_regularizer=l2(1e-4))\r\n",
        "\r\n",
        "    x = inputs\r\n",
        "    if conv_first:\r\n",
        "        x = conv(x)\r\n",
        "        if batch_normalization:\r\n",
        "            x = BatchNormalization()(x)\r\n",
        "        if activation is not None:\r\n",
        "            x = Activation(activation)(x)\r\n",
        "    else:\r\n",
        "        if batch_normalization:\r\n",
        "            x = BatchNormalization()(x)\r\n",
        "        if activation is not None:\r\n",
        "            x = Activation(activation)(x)\r\n",
        "        x = conv(x)\r\n",
        "    return x"
      ],
      "execution_count": null,
      "outputs": []
    },
    {
      "cell_type": "code",
      "metadata": {
        "id": "tAUYakbsWjKJ"
      },
      "source": [
        "def resnet_v1(input_shape, depth, num_classes=3):\r\n",
        "    if (depth - 2) % 6 != 0:\r\n",
        "        raise ValueError('depth should be 6n+2 (eg 20, 32, 44 in [a])')\r\n",
        "    # Start model definition.\r\n",
        "    num_filters = 16\r\n",
        "    num_res_blocks = int((depth - 2) / 6)\r\n",
        "\r\n",
        "    inputs = Input(shape=input_shape)\r\n",
        "    x = resnet_layer(inputs=inputs)\r\n",
        "    # Instantiate the stack of residual units\r\n",
        "    for stack in range(3):\r\n",
        "        for res_block in range(num_res_blocks):\r\n",
        "            strides = 1\r\n",
        "            if stack > 0 and res_block == 0:  # first layer but not first stack\r\n",
        "                strides = 2  # downsample\r\n",
        "            y = resnet_layer(inputs=x,\r\n",
        "                             num_filters=num_filters,\r\n",
        "                             strides=strides)\r\n",
        "            y = resnet_layer(inputs=y,\r\n",
        "                             num_filters=num_filters,\r\n",
        "                             activation=None)\r\n",
        "            if stack > 0 and res_block == 0:  # first layer but not first stack\r\n",
        "                # linear projection residual shortcut connection to match\r\n",
        "                # changed dims\r\n",
        "                x = resnet_layer(inputs=x,\r\n",
        "                                 num_filters=num_filters,\r\n",
        "                                 kernel_size=2, ### originally: 1,\r\n",
        "                                 strides=strides,\r\n",
        "                                 activation=None,\r\n",
        "                                 batch_normalization=False)\r\n",
        "            x = keras.layers.add([x, y])\r\n",
        "            \r\n",
        "            x = Activation('relu')(x)\r\n",
        "        num_filters *= 2\r\n",
        "\r\n",
        "    # Add classifier on top.\r\n",
        "    # v1 does not use BN after last shortcut connection-ReLU\r\n",
        "    x = MaxPooling2D(pool_size=8)(x)\r\n",
        "    y = Flatten()(x)\r\n",
        "    outputs = Dense(num_classes,\r\n",
        "                    activation='softmax',\r\n",
        "                    kernel_initializer='he_normal')(y)\r\n",
        "\r\n",
        "    # Instantiate model.\r\n",
        "    model = Model(inputs=inputs, outputs=outputs)\r\n",
        "    print('Model parameters: {:d}'.format(model.count_params()))\r\n",
        "    return model"
      ],
      "execution_count": null,
      "outputs": []
    },
    {
      "cell_type": "code",
      "metadata": {
        "id": "0jCC3ta_XDwD"
      },
      "source": [
        "def lr_schedule(epoch):\r\n",
        "  lr = 1e-2\r\n",
        "  if (epoch>180) :\r\n",
        "      lr *= 0.5e-3\r\n",
        "  elif epoch > 160:\r\n",
        "      lr *= 1e-3\r\n",
        "  elif epoch > 120:\r\n",
        "      lr *= 1e-2\r\n",
        "  elif epoch > 80:\r\n",
        "      lr *= 1e-1\r\n",
        "  return lr"
      ],
      "execution_count": null,
      "outputs": []
    },
    {
      "cell_type": "code",
      "metadata": {
        "id": "HTIqCW5XXbMj"
      },
      "source": [
        "class MyCallback(keras.callbacks.Callback):\r\n",
        "    tstart = None\r\n",
        "    def on_train_begin(self, logs={}):\r\n",
        "        return\r\n",
        "    \r\n",
        "    def on_train_end(self, logs={}):\r\n",
        "        return\r\n",
        "    \r\n",
        "    def on_epoch_begin(self, epoch, logs={}):\r\n",
        "        self.tstart = time.time()\r\n",
        "        print('epoch:{:03d}'.format(epoch+1), end=', ')\r\n",
        "        return\r\n",
        "    \r\n",
        "    def on_epoch_end(self, epoch, logs={}):\r\n",
        "        print('loss:{:8.6f}, acc:{:8.6f},  val_loss:{:8.6f}, val_acc:{:8.6f},  val_acc-acc = {:5.2f}%,  lr:{:0.6f}  [{:0.2f} sec]'.format(\r\n",
        "                logs.get('loss'), logs.get('acc'),\r\n",
        "                logs.get('val_loss'), logs.get('val_acc'),\r\n",
        "                100*(logs.get('val_acc')-logs.get('acc')),\r\n",
        "                K.eval(self.model.optimizer.lr),\r\n",
        "                time.time()-self.tstart))\r\n",
        "        return\r\n",
        "    \r\n",
        "    def on_batch_begin(self, batch, logs={}):\r\n",
        "        return\r\n",
        "    \r\n",
        "    def on_batch_end(self, batch, logs={}):\r\n",
        "        return"
      ],
      "execution_count": null,
      "outputs": []
    },
    {
      "cell_type": "code",
      "metadata": {
        "id": "zvh5AxtvXi3C"
      },
      "source": [
        "model = resnet_v1(input_shape=input_shape, depth=depth)\r\n",
        "    \r\n",
        "model.compile(loss=\"categorical_crossentropy\",\r\n",
        "              optimizer=Adam(lr=lr_schedule(0)),\r\n",
        "              metrics=['acc'])\r\n",
        "model.summary()"
      ],
      "execution_count": null,
      "outputs": []
    },
    {
      "cell_type": "code",
      "metadata": {
        "id": "67on7ovvYJnR"
      },
      "source": [
        "plot_model(model, show_shapes=True, dpi=48)"
      ],
      "execution_count": null,
      "outputs": []
    },
    {
      "cell_type": "code",
      "metadata": {
        "id": "EgSMdRbWYVyR"
      },
      "source": [
        "# Training parameters\r\n",
        "batch_size = 32  # orig paper trained all networks with batch_size=128\r\n",
        "epochs = 200\r\n",
        "\r\n",
        "# Prepare model model saving directory.\r\n",
        "model_name = 'resnet20-e{epoch:04d}-loss{loss:.3f}-acc{acc:.3f}-valloss{val_loss:.3f}-valacc{val_acc:.3f}.h5'\r\n",
        "if not os.path.isdir(save_dir):\r\n",
        "    os.makedirs(save_dir)\r\n",
        "filepath = os.path.join(save_dir, model_name)\r\n",
        "\r\n",
        "# Prepare callbacks for model saving and for learning rate adjustment.\r\n",
        "checkpoint = ModelCheckpoint(filepath=filepath,\r\n",
        "                             monitor='val_acc',\r\n",
        "                             verbose=1,\r\n",
        "                             save_best_only=True)\r\n",
        "\r\n",
        "lr_scheduler = LearningRateScheduler(lr_schedule)\r\n",
        "\r\n",
        "lr_reducer = ReduceLROnPlateau(factor=np.sqrt(0.1),\r\n",
        "                               cooldown=0,\r\n",
        "                               patience=5,\r\n",
        "                               min_lr=0.5e-6)\r\n",
        "\r\n",
        "# This will do preprocessing and realtime data augmentation:\r\n",
        "datagen = ImageDataGenerator(\r\n",
        "  featurewise_center=False,  # set input mean to 0 over the dataset\r\n",
        "  samplewise_center=False,  # set each sample mean to 0\r\n",
        "  featurewise_std_normalization=False,  # divide inputs by std of the dataset\r\n",
        "  samplewise_std_normalization=False,  # divide each input by its std\r\n",
        "  zca_whitening=False,  # apply ZCA whitening\r\n",
        "  rotation_range = 30,  # randomly rotate images in the range (degrees, 0 to 180)\r\n",
        "  zoom_range = 0.2, # Randomly zoom image \r\n",
        "  width_shift_range=0.1,  # randomly shift images horizontally (fraction of total width)\r\n",
        "  height_shift_range=0.1,  # randomly shift images vertically (fraction of total height)\r\n",
        "  horizontal_flip = True,  # randomly flip images\r\n",
        "  vertical_flip=False)  # randomly flip images\r\n",
        "\r\n",
        "# Compute quantities required for featurewise normalization\r\n",
        "\r\n",
        "datagen.fit(x_train)\r\n",
        "\r\n",
        "\r\n",
        "# Fit the model on the batches generated by datagen.flow().\r\n",
        "history = model.fit(datagen.flow(x_train, t_train, batch_size=batch_size*4), \r\n",
        "                    validation_data=(x_test, t_test), epochs=epochs, verbose=0, \r\n",
        "                    workers=4, steps_per_epoch = int(x_train.shape[0]/batch_size), \r\n",
        "                    callbacks=[lr_reducer, lr_scheduler, MyCallback(), checkpoint])\r\n",
        "\r\n",
        "# Score trained model.\r\n",
        "scores = model.evaluate(x_test, t_test, verbose=1)\r\n",
        "print('Test loss:', scores[0])\r\n",
        "print('Test accuracy:', scores[1])"
      ],
      "execution_count": null,
      "outputs": []
    },
    {
      "cell_type": "code",
      "metadata": {
        "id": "mlcjgwxoZh4Z",
        "colab": {
          "base_uri": "https://localhost:8080/",
          "height": 497
        },
        "outputId": "a530997d-1156-4e94-e0aa-de473434a293"
      },
      "source": [
        "plt.figure(figsize=(10,8))\r\n",
        "plt.plot(history.history['acc'])\r\n",
        "plt.plot(history.history['val_acc'])\r\n",
        "plt.xlabel('Epochs')\r\n",
        "plt.ylabel('%')\r\n",
        "plt.legend(('acc','val-acc'))\r\n",
        "plt.grid(b=True)"
      ],
      "execution_count": null,
      "outputs": [
        {
          "output_type": "display_data",
          "data": {
            "image/png": "[encoded data removed]",
            "text/plain": [
              "<Figure size 720x576 with 1 Axes>"
            ]
          },
          "metadata": {
            "tags": [],
            "needs_background": "light"
          }
        }
      ]
    },
    {
      "cell_type": "code",
      "metadata": {
        "id": "oSCba44is8EX"
      },
      "source": [
        "#Releasing Memory\r\n",
        "x_train = []\r\n",
        "x_train = None\r\n",
        "del x_train\r\n",
        "t_train = []\r\n",
        "t_train = None\r\n",
        "del t_train\r\n",
        "\r\n",
        "x_test = []\r\n",
        "x_test = None\r\n",
        "del x_test\r\n",
        "\r\n",
        "t_test = []\r\n",
        "t_test = None\r\n",
        "del t_test\r\n",
        "\r\n",
        "datagen = None\r\n",
        "del datagen\r\n",
        "\r\n",
        "history = None\r\n",
        "del history\r\n"
      ],
      "execution_count": null,
      "outputs": []
    },
    {
      "cell_type": "code",
      "metadata": {
        "id": "SoNeNGBZUTYF"
      },
      "source": [
        "test_imgs_paths = os.listdir('/content/drive/MyDrive/Xrays/test_images/')\r\n",
        "test_imgs = []\r\n",
        "for path in test_imgs_paths:\r\n",
        "  img = Image.open('/content/drive/MyDrive/Xrays/test_images/{test_image}'.format(test_image=path))\r\n",
        "  test_imgs.append(img)\r\n",
        "\r\n",
        "print(\"Loaded Test data\")"
      ],
      "execution_count": null,
      "outputs": []
    },
    {
      "cell_type": "code",
      "metadata": {
        "id": "gDja0tZehVAH"
      },
      "source": [
        "for i in range(len(test_imgs_paths)):\r\n",
        "  test_imgs[i]= resize(test_imgs[i], width, height)\r\n",
        "  test_imgs[i]= np.asarray(test_imgs[i])\r\n",
        "\r\n",
        "test_imgs = np.array(test_imgs, dtype=\"float32\")/255.0\r\n",
        "\r\n",
        "print(test_imgs.shape)"
      ],
      "execution_count": null,
      "outputs": []
    },
    {
      "cell_type": "code",
      "metadata": {
        "id": "5mC_A5qbfie_"
      },
      "source": [
        "test_imgs -= x_train_mean"
      ],
      "execution_count": null,
      "outputs": []
    },
    {
      "cell_type": "code",
      "metadata": {
        "id": "KnwYx7TGXWyP"
      },
      "source": [
        "predictions = model.predict(test_imgs)"
      ],
      "execution_count": null,
      "outputs": []
    },
    {
      "cell_type": "code",
      "metadata": {
        "id": "plMbHqvQUHHE"
      },
      "source": [
        "def getMaxIndex(list):\r\n",
        "  maxim= max(list)\r\n",
        "  for i in range(len(list)):\r\n",
        "    if maxim == list[i]:\r\n",
        "      return i"
      ],
      "execution_count": null,
      "outputs": []
    },
    {
      "cell_type": "code",
      "metadata": {
        "id": "cxUcLvM4UVnM"
      },
      "source": [
        "import csv\r\n",
        "\r\n",
        "with open('submission_resnet20_170p_DataGen_MaxPool_val_acc0.817.csv', mode='w') as submission_file:\r\n",
        "    submission_file = csv.writer(submission_file, delimiter=',', quotechar='\"', quoting=csv.QUOTE_MINIMAL)\r\n",
        "\r\n",
        "    submission_file.writerow(['file_name', 'class_id'])\r\n",
        "    j=0\r\n",
        "    for i  in predictions:\r\n",
        "      #print(\"image : {img} \\t\\tclass : {i}\".format(img=test_imgs_paths[j], i=getMaxIndex(i)))\r\n",
        "      submission_file.writerow(['{img}'.format(img=test_imgs_paths[j]), '{i}'.format(i=getMaxIndex(i))])\r\n",
        "      j+=1\r\n",
        "\r\n",
        "print(\"Done\")"
      ],
      "execution_count": null,
      "outputs": []
    }
  ]
}