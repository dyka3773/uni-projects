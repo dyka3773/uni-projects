{
  "nbformat": 4,
  "nbformat_minor": 0,
  "metadata": {
    "colab": {
      "name": "keras_course_mlp.ipynb",
      "provenance": [],
      "collapsed_sections": []
    },
    "kernelspec": {
      "name": "python3",
      "display_name": "Python 3"
    },
    "accelerator": "GPU"
  },
  "cells": [
    {
      "cell_type": "markdown",
      "metadata": {
        "id": "gTlAmtJQO1lO"
      },
      "source": [
        "<table>\n",
        "<td>\n",
        "<img src=\"https://people.iee.ihu.gr/~kdiamant/images/kdiamantaras2.jpg\" alt=\"Kostas Diamantaras\" height=\"100\"/>\n",
        "</td>\n",
        "<td>\n",
        "<p>Konstantinos Diamantaras</p>\n",
        "<p>Department of Information and Electronic Engineering</p>  \n",
        "<p>International Hellenic University</p>  \n",
        "<p>Greece</p>\n",
        "</td>\n",
        "<td>\n",
        "<img src=\"//upload.wikimedia.org/wikipedia/commons/thumb/8/8c/International_Hellenic_University_logo.jpg/220px-International_Hellenic_University_logo.jpg\" alt=\"IHU\" height=\"100\"/>\n",
        "</td>\n",
        "</table>\n",
        "\n",
        "# Implement a simple Multi-Layer Perceptron model  \n",
        "<ul>\n",
        "<li> Use Core layers: <code>Input</code>, <code>Dense</code>, <code>Flatten</code></li>\n",
        "<li> Build and train the model</li>\n",
        "<li> Predict test patterns</li>\n",
        "<li> Dataset: <a href=\"http://yann.lecun.com/exdb/mnist/\">MNIST</a></li>\n",
        "</ul>"
      ]
    },
    {
      "cell_type": "markdown",
      "metadata": {
        "id": "aWGsVvz7ArW1"
      },
      "source": [
        "### **Introduction: Tensors**  \n",
        "Implement tensors using numpy arrays. **numpy arrays = tensors**.  \n",
        "Make an n-d array applying the function `numpy.array()` on a n-d list  \n",
        "Get the shape of a n-d array using the `.shape()` method"
      ]
    },
    {
      "cell_type": "code",
      "metadata": {
        "id": "ITqiTUOBAj9O",
        "colab": {
          "base_uri": "https://localhost:8080/"
        },
        "outputId": "d45a30e0-a7df-40c6-cdfa-a0959e66182e"
      },
      "source": [
        "import numpy as np\n",
        "\n",
        "# 0 dimensional tensor = number\n",
        "n = 3\n",
        "print('n={}'.format(n))\n",
        "# 1 dimensional tensor (=vector)\n",
        "a = np.array([3, -6.1, 4.2])\n",
        "print('a shape = {}'.format(a.shape))\n",
        "\n",
        "# 2 dimensional tensor (=matrix)\n",
        "b = np.array([[3, -6.1, 4.2],\n",
        "              [-2.7, -8.5, 9]])\n",
        "print('b shape = {}'.format(b.shape))\n",
        "\n",
        "# 3 dimensional tensor = 3-d array\n",
        "c = np.array([[[3, -6.1, 4.2],\n",
        "               [-2.7, -8.5, 9]],\n",
        "              [[-5.6, -1.4, 2],\n",
        "               [3, 0.1, 0.7]],\n",
        "              [[2.2, 0.1, -2.4],\n",
        "               [-1.5, -0.5, 1.8]],\n",
        "              [[-0.6, 4.4, -8],\n",
        "               [1.3, -0.3, 6.7]]])\n",
        "print('c shape = {}'.format(c.shape))"
      ],
      "execution_count": null,
      "outputs": [
        {
          "output_type": "stream",
          "text": [
            "n=3\n",
            "a shape = (3,)\n",
            "b shape = (2, 3)\n",
            "c shape = (4, 2, 3)\n"
          ],
          "name": "stdout"
        }
      ]
    },
    {
      "cell_type": "code",
      "metadata": {
        "id": "VGHoPbEhLRbq",
        "colab": {
          "base_uri": "https://localhost:8080/"
        },
        "outputId": "9647be4b-345a-4ae8-aa0c-29d7e65ee103"
      },
      "source": [
        "!nvidia-smi"
      ],
      "execution_count": null,
      "outputs": [
        {
          "output_type": "stream",
          "text": [
            "Fri Nov 13 15:15:44 2020       \n",
            "+-----------------------------------------------------------------------------+\n",
            "| NVIDIA-SMI 455.32.00    Driver Version: 418.67       CUDA Version: 10.1     |\n",
            "|-------------------------------+----------------------+----------------------+\n",
            "| GPU  Name        Persistence-M| Bus-Id        Disp.A | Volatile Uncorr. ECC |\n",
            "| Fan  Temp  Perf  Pwr:Usage/Cap|         Memory-Usage | GPU-Util  Compute M. |\n",
            "|                               |                      |               MIG M. |\n",
            "|===============================+======================+======================|\n",
            "|   0  Tesla P4            Off  | 00000000:00:04.0 Off |                    0 |\n",
            "| N/A   51C    P0    24W /  75W |    249MiB /  7611MiB |      0%      Default |\n",
            "|                               |                      |                 ERR! |\n",
            "+-------------------------------+----------------------+----------------------+\n",
            "                                                                               \n",
            "+-----------------------------------------------------------------------------+\n",
            "| Processes:                                                                  |\n",
            "|  GPU   GI   CI        PID   Type   Process name                  GPU Memory |\n",
            "|        ID   ID                                                   Usage      |\n",
            "|=============================================================================|\n",
            "|  No running processes found                                                 |\n",
            "+-----------------------------------------------------------------------------+\n"
          ],
          "name": "stdout"
        }
      ]
    },
    {
      "cell_type": "markdown",
      "metadata": {
        "id": "jhUMEl6yDqvk"
      },
      "source": [
        "### **Keras Layers**  \n",
        "A layer is a python object that receives an n-d tensor `x` as input and returns an m-d tensor `y` as output.  \n",
        "General usage:  \n",
        "<code>y = *&lt;Layer_constructor&gt;*(*&lt;parameters&gt;*)(x)</code>"
      ]
    },
    {
      "cell_type": "code",
      "metadata": {
        "id": "HMXB20jtYWYR"
      },
      "source": [
        "import tensorflow.keras.backend as K"
      ],
      "execution_count": null,
      "outputs": []
    },
    {
      "cell_type": "markdown",
      "metadata": {
        "id": "6foXbYMUUQHS"
      },
      "source": [
        "#### Delete previous model, if one exists, to avoid memory leak"
      ]
    },
    {
      "cell_type": "code",
      "metadata": {
        "id": "1PhHCWElT1IQ",
        "colab": {
          "base_uri": "https://localhost:8080/"
        },
        "outputId": "13f9fbae-d08e-4678-afc1-1a200b8d08ae"
      },
      "source": [
        "try:\n",
        "    K.clear_session()\n",
        "    del model\n",
        "    print('Model deleted')\n",
        "except:\n",
        "    print('No model to delete')"
      ],
      "execution_count": null,
      "outputs": [
        {
          "output_type": "stream",
          "text": [
            "No model to delete\n"
          ],
          "name": "stdout"
        }
      ]
    },
    {
      "cell_type": "markdown",
      "metadata": {
        "id": "EzuEk5vNUDVz"
      },
      "source": [
        "#### Input layer (see [Core layers](https://keras.io/layers/core/))  \n",
        "The input layer simply creates a tensor with shape `(None, n2, n3, ..., nk)`.\n",
        "The first dimension is unspecified because if corresponds to the <code>*&lt;batch_size&gt;*</code> which is currently an unknown number.\n",
        "It will be specified when we use the network for training, prediction or evaluation.  \n",
        "For example:\n"
      ]
    },
    {
      "cell_type": "code",
      "metadata": {
        "id": "f3ANoFmqas-N",
        "colab": {
          "base_uri": "https://localhost:8080/"
        },
        "outputId": "6ffe591b-2007-4995-ce47-03cecffc745a"
      },
      "source": [
        "from tensorflow.keras.layers import Input\n",
        "\n",
        "x_in = Input(shape=[28,28])    # Create a Tensor with shape [?, 28, 28] \n",
        "print(x_in)"
      ],
      "execution_count": null,
      "outputs": [
        {
          "output_type": "stream",
          "text": [
            "Tensor(\"input_1:0\", shape=(None, 28, 28), dtype=float32)\n"
          ],
          "name": "stdout"
        }
      ]
    },
    {
      "cell_type": "markdown",
      "metadata": {
        "id": "AidWEVpFfQvg"
      },
      "source": [
        "> Keras `Tensor` class:  \n",
        "the object `x_in` is an instance of the `Tensor` class which wraps `numpy.array` with some extra functionality.  "
      ]
    },
    {
      "cell_type": "markdown",
      "metadata": {
        "id": "i4iNT5k79B9F"
      },
      "source": [
        "#### Flatten layer (see [Core layers](https://keras.io/layers/core/))  \n",
        "Takes a k-dimensional input tensor of shape `[None, n2, n3, ..., nk]` and reshapes it into a 2-dimensional tensor of shape `[None, n2*...*nk]`. For example, the following code reshapes the `[None,28,28]` tensor `x_in` into the 2-d tensor `x_flat` with dimensions `[None,784]`:"
      ]
    },
    {
      "cell_type": "code",
      "metadata": {
        "id": "FIYs7D8t9Bgo",
        "colab": {
          "base_uri": "https://localhost:8080/"
        },
        "outputId": "21d177a3-ec25-4aeb-b604-2e1d82a88e5c"
      },
      "source": [
        "from tensorflow.keras.layers import Flatten\n",
        "\n",
        "x_flat = Flatten()(x_in)  # κανει διδσιάστατο.. none, 784 = 28*28\n",
        "print(x_flat.shape)"
      ],
      "execution_count": null,
      "outputs": [
        {
          "output_type": "stream",
          "text": [
            "(None, 784)\n"
          ],
          "name": "stdout"
        }
      ]
    },
    {
      "cell_type": "markdown",
      "metadata": {
        "id": "AEZtM5jRGdvG"
      },
      "source": [
        "#### Dense layer (see [Core layers](https://keras.io/layers/core/))  \n",
        "The dense layer implements a fully connected neural layer with $n$ inputs and $m$ outputs.  \n",
        "<table><tr><td>\n",
        "<img src=\"https://people.iee.ihu.gr/~kdiamant/images/Dense_layer.png\" alt=\"Dense layer\" height=\"150\"/>\n",
        "</td><td>\n",
        "<p>$\\mathbf{y} = f( \\mathbf{xW} + \\mathbf{b} )$</p>\n",
        "<p>$f$: activation function</p>\n",
        "<p>$W$: $n\\times m$ weight matrix</p>\n",
        "<p>$b$: $m$-dimensional bias vector</p>\n",
        "</td></tr></table>\n",
        "\n",
        "It assumes that the input tensor `x` is 2-d with shape `(None,n)`.\n",
        "Again the first dimension is unspecified because it corresponds to the unknown `batch_size`.\n",
        "In other words `x` is a matrix whose rows correspond to patterns and columns correspond to features.\n",
        "You may specify the number of inputs using the parameter `input_shape=(n,)`.\n",
        "You can skip this parameter if you specify the tensor `x` in which case the dimension `n` will be infered from it.  \n",
        "The output dimension `m` must be passed to the layer constructor as a parameter.\n",
        "This is mandatory.  \n",
        "The dimension of the output tensor `y` is `(None,m)`.  \n",
        "You may also set the activation function of the neurons.\n",
        "If not set, the activation is by default linear. Possible activation functions include:\n",
        "* `'relu'`: $relu(a) = 0$ if $a<0$, else $a$ if $a\\geq 0$  \n",
        "* `'softmax'`, $z = softmax(a)$, $z_i = \\frac{exp(a_i)}{\\Sigma_j exp(a_j)}$ \n",
        "* `'sigmoid'`, $sigmoid(a) = \\frac{1}{1+exp(-a)}$  \n",
        "* `'tanh'`: $tanh(a) = \\frac{exp(a)-exp(-a)}{exp(a)+exp(-a)}$  \n",
        "For example:  "
      ]
    },
    {
      "cell_type": "code",
      "metadata": {
        "id": "a4RutchEa1mP",
        "colab": {
          "base_uri": "https://localhost:8080/"
        },
        "outputId": "9ff902a6-e7f4-4803-a0df-8bd1f337a258"
      },
      "source": [
        "from tensorflow.keras.layers import Dense\n",
        "\n",
        "\"\"\"\n",
        "Define a dense layer with\n",
        "    output units = 32 \n",
        "    input tensor = x_flat\n",
        "    activation function = relu\n",
        "\"\"\"\n",
        "y = Dense(32, activation='relu')(x_flat)      # First dense layer\n",
        "print(y)    # shape = [None, 32]"
      ],
      "execution_count": null,
      "outputs": [
        {
          "output_type": "stream",
          "text": [
            "Tensor(\"dense/Relu:0\", shape=(None, 32), dtype=float32)\n"
          ],
          "name": "stdout"
        }
      ]
    },
    {
      "cell_type": "markdown",
      "metadata": {
        "id": "vsMdrzOZeI7f"
      },
      "source": [
        "Add more layers to the network"
      ]
    },
    {
      "cell_type": "code",
      "metadata": {
        "id": "MFZSOBhneNAd"
      },
      "source": [
        "y = Dense(64, activation='relu')(y)         # Second dense layer (64 outputs units)\n",
        "y = Dense(96, activation='relu')(y)         # Third dense layer (96 output units)\n",
        "out = Dense(10, activation='softmax')(y)    # Output layer = Fourth dense layer"
      ],
      "execution_count": null,
      "outputs": []
    },
    {
      "cell_type": "markdown",
      "metadata": {
        "id": "eiuNcDuEzl9m"
      },
      "source": [
        "out = [0, 0.1, 0, 0, 0.9, 0, 0, 0, 0, 0] --> class 5 with probability 0.9"
      ]
    },
    {
      "cell_type": "markdown",
      "metadata": {
        "id": "42knmRefZZSv"
      },
      "source": [
        "#### Build a keras [Model](https://keras.io/models/model/)  \n",
        "Build the model by specifying the input tensor `x_in` and the output tensor `out`:"
      ]
    },
    {
      "cell_type": "code",
      "metadata": {
        "id": "C-_3e0jVTLn5"
      },
      "source": [
        "from tensorflow.keras.models import Model\n",
        "\n",
        "model = Model(inputs=x_in, outputs=out)"
      ],
      "execution_count": null,
      "outputs": []
    },
    {
      "cell_type": "markdown",
      "metadata": {
        "id": "AIrsdiwRhPUw"
      },
      "source": [
        "#### Compile the model  \n",
        "Prepare the model for training using the method `.compile()`. With this method we specify:  \n",
        "\n",
        "* The loss function `loss`. Typical loss functions include:  \n",
        "  > `'mean_squared_error'`:  $loss(\\mathbf{y},\\mathbf{t}) = \\sum_{p=1}^N \\sum_{i=1}^m (y_{pi} - t_{pi})^2$ where  \n",
        "    $y_{pi}$ is the $i$-th model output for the $p$-th pattern  \n",
        "    $t_{pi}$ is the target for the $i$-th output for the $p$-th pattern  \n",
        "\n",
        "  > `'categorical_crossentropy'`: $loss(\\mathbf{y},\\mathbf{t}) = -\\sum_{p=1}^N \\sum_{i=1}^m \\log(y_{pi}) t_{pi}$ where  \n",
        "    $y_{pi}$ and $t_{pi}$ as before, except that we must have $0\\leq y_{pi} \\leq 1$ and also, for all patterns $p$, $[t_{p1}, t_{p2}, ..., t_{pm}]$ must be a binary one-hot vector  \n",
        "\n",
        "  > `'sparse_categorical_crossentropy'`: $loss(\\mathbf{y},\\mathbf{t}) = -\\sum_{p=1}^N \\sum_{i=1}^m \\log(y_{pi}) onehot_{pi}$ where  \n",
        "    $y_{pi}$ as before, and $t_{pi}$ is an integer representing the class label for pattern $p$. Then $onehot_p$ is an one-hot vector of size `number_of_classes` corresponding to the label $t_{pi}$  \n",
        "\n",
        "  > For more details see [keras losses](https://keras.io/losses/)  \n",
        "\n",
        "* The optimizer algorithm to be used.  \n",
        "> Stochastic Gradient Descent: `SGD(lr=0.01, decay=1e-6, momentum=0.9, nesterov=True)`  \n",
        "> Adam optimizer: `Adam(learning_rate=0.001, beta_1=0.9, beta_2=0.999, amsgrad=False)`  \n",
        "> For more details see [keras optimizers](https://keras.io/optimizers/)  \n",
        "\n",
        "* List of metrics to display while training the model. Typical metrics include  \n",
        "> `'accuracy'`  \n",
        "> `'mae'` (Mean Absolute Error)  \n",
        "> `'mse'` (Mean Squared Error)  \n",
        "> For more details see [keras metrics](https://keras.io/metrics/)  "
      ]
    },
    {
      "cell_type": "code",
      "metadata": {
        "id": "JDBToysMhUhT"
      },
      "source": [
        "from tensorflow.keras.losses import sparse_categorical_crossentropy\n",
        "from tensorflow.keras.optimizers import Adam\n",
        "\n",
        "model.compile(loss='sparse_categorical_crossentropy',\n",
        "              optimizer=Adam(lr=1e-3),\n",
        "              metrics=['accuracy'])"
      ],
      "execution_count": null,
      "outputs": []
    },
    {
      "cell_type": "markdown",
      "metadata": {
        "id": "V8jWzF2tOAx1"
      },
      "source": [
        "#### Model summary  \n",
        "Print model details in human readable format"
      ]
    },
    {
      "cell_type": "code",
      "metadata": {
        "id": "kJwR1Dz6OHu1",
        "colab": {
          "base_uri": "https://localhost:8080/"
        },
        "outputId": "3fbcd931-4d19-436f-f357-793a5b2a8f78"
      },
      "source": [
        "model.summary()"
      ],
      "execution_count": null,
      "outputs": [
        {
          "output_type": "stream",
          "text": [
            "Model: \"functional_3\"\n",
            "_________________________________________________________________\n",
            "Layer (type)                 Output Shape              Param #   \n",
            "=================================================================\n",
            "input_1 (InputLayer)         [(None, 28, 28)]          0         \n",
            "_________________________________________________________________\n",
            "flatten (Flatten)            (None, 784)               0         \n",
            "_________________________________________________________________\n",
            "dense (Dense)                (None, 32)                25120     \n",
            "_________________________________________________________________\n",
            "dense_1 (Dense)              (None, 64)                2112      \n",
            "_________________________________________________________________\n",
            "dense_2 (Dense)              (None, 96)                6240      \n",
            "_________________________________________________________________\n",
            "dense_3 (Dense)              (None, 10)                970       \n",
            "=================================================================\n",
            "Total params: 34,442\n",
            "Trainable params: 34,442\n",
            "Non-trainable params: 0\n",
            "_________________________________________________________________\n"
          ],
          "name": "stdout"
        }
      ]
    },
    {
      "cell_type": "markdown",
      "metadata": {
        "id": "vdCCmi7w6K-0"
      },
      "source": [
        "#### Load dataset for training  \n",
        "The MNIST dataset is a benchmark for handwritten digit recongition. It consists of 4 tensors:\n",
        "> `x_train`: tensor with shape (60000, 28, 28). Contains 60000 training images of size 28 $\\times$ 28 pixels  \n",
        "> `t_train`: tensor with shape (60000). Contains 60000 training image labels  \n",
        "> `x_test`: tensor with shape (10000, 28, 28). Contains 10000 test images of size 28 $\\times$ 28 pixels  \n",
        "> `t_test`: tensor with shape (10000). Contains 10000 test image labels  \n",
        "\n",
        "MNIST can be loaded using the built in function `keras.datasets.mnist.load_data()`"
      ]
    },
    {
      "cell_type": "code",
      "metadata": {
        "id": "AiHrPdyl7JU-",
        "colab": {
          "base_uri": "https://localhost:8080/"
        },
        "outputId": "40a0727d-4561-46f2-a076-cf54a5b51f93"
      },
      "source": [
        "from tensorflow.keras.datasets import mnist\n",
        "\n",
        "(x_train, t_train), (x_test, t_test) = mnist.load_data()\n",
        "print('x_train.shape = ', x_train.shape)\n",
        "print('t_train.shape = ', t_train.shape)\n",
        "print('x_test.shape = ', x_test.shape)\n",
        "print('t_test.shape = ', t_test.shape)"
      ],
      "execution_count": null,
      "outputs": [
        {
          "output_type": "stream",
          "text": [
            "Downloading data from https://storage.googleapis.com/tensorflow/tf-keras-datasets/mnist.npz\n",
            "11493376/11490434 [==============================] - 0s 0us/step\n",
            "x_train.shape =  (60000, 28, 28)\n",
            "t_train.shape =  (60000,)\n",
            "x_test.shape =  (10000, 28, 28)\n",
            "t_test.shape =  (10000,)\n"
          ],
          "name": "stdout"
        }
      ]
    },
    {
      "cell_type": "markdown",
      "metadata": {
        "id": "mlfeQdzq5heX"
      },
      "source": [
        "#### Train the model  \n",
        "Use the `.fit(x, y, batch_size, epochs, validation_data, verbose, ...)` method to train the model. Main parameters:  \n",
        "* `x`: numpy array containing the training patterns. Rows are patterns, columns are features.  \n",
        "* `y`: numpy array containing the training targets. Make sure that the format of the array fits the `loss` that was used when you compiled the model\n",
        "* `batch_size`: the data are fed into the optimization algorithm in batches, ie. in small groups of *B* patterns at a time. `batch_size`=*B*.\n",
        "* `validation_data`: a pair of numpy arrays containing the testing patterns and the testing targets.\n",
        "* `max_epochs`: maximum number of epochs used for training. An epoch of training is completed when all the patterns are presented to the algorithm once.\n",
        "* `verbose`: level of detailed feedback given by the algorithm during training. `verbose=0` gives no feedback."
      ]
    },
    {
      "cell_type": "code",
      "metadata": {
        "id": "ZlvrtIRK5mQe",
        "colab": {
          "base_uri": "https://localhost:8080/"
        },
        "outputId": "9c9d89f8-3b11-4980-b2fa-a4fa45c0b77e"
      },
      "source": [
        "max_epochs = 50\n",
        "batch_size = 100\n",
        "#number of batches = 60000/100 = 600\n",
        "\n",
        "history = model.fit(x=x_train, y=t_train,\n",
        "                    validation_data=(x_test,t_test),\n",
        "                    batch_size=batch_size,\n",
        "                    epochs=max_epochs,\n",
        "                    verbose=2)"
      ],
      "execution_count": null,
      "outputs": [
        {
          "output_type": "stream",
          "text": [
            "Epoch 1/50\n",
            "600/600 - 1s - loss: 0.0589 - accuracy: 0.9821 - val_loss: 0.1985 - val_accuracy: 0.9592\n",
            "Epoch 2/50\n",
            "600/600 - 1s - loss: 0.0547 - accuracy: 0.9829 - val_loss: 0.2301 - val_accuracy: 0.9562\n",
            "Epoch 3/50\n",
            "600/600 - 1s - loss: 0.0548 - accuracy: 0.9826 - val_loss: 0.2144 - val_accuracy: 0.9556\n",
            "Epoch 4/50\n",
            "600/600 - 1s - loss: 0.0570 - accuracy: 0.9823 - val_loss: 0.2493 - val_accuracy: 0.9548\n",
            "Epoch 5/50\n",
            "600/600 - 1s - loss: 0.0542 - accuracy: 0.9825 - val_loss: 0.2153 - val_accuracy: 0.9578\n",
            "Epoch 6/50\n",
            "600/600 - 1s - loss: 0.0535 - accuracy: 0.9832 - val_loss: 0.2393 - val_accuracy: 0.9574\n",
            "Epoch 7/50\n",
            "600/600 - 1s - loss: 0.0547 - accuracy: 0.9828 - val_loss: 0.2117 - val_accuracy: 0.9601\n",
            "Epoch 8/50\n",
            "600/600 - 1s - loss: 0.0488 - accuracy: 0.9847 - val_loss: 0.2282 - val_accuracy: 0.9586\n",
            "Epoch 9/50\n",
            "600/600 - 1s - loss: 0.0526 - accuracy: 0.9835 - val_loss: 0.2261 - val_accuracy: 0.9604\n",
            "Epoch 10/50\n",
            "600/600 - 1s - loss: 0.0513 - accuracy: 0.9839 - val_loss: 0.2154 - val_accuracy: 0.9575\n",
            "Epoch 11/50\n",
            "600/600 - 1s - loss: 0.0491 - accuracy: 0.9850 - val_loss: 0.2275 - val_accuracy: 0.9586\n",
            "Epoch 12/50\n",
            "600/600 - 1s - loss: 0.0542 - accuracy: 0.9828 - val_loss: 0.1993 - val_accuracy: 0.9622\n",
            "Epoch 13/50\n",
            "600/600 - 1s - loss: 0.0517 - accuracy: 0.9840 - val_loss: 0.2222 - val_accuracy: 0.9600\n",
            "Epoch 14/50\n",
            "600/600 - 1s - loss: 0.0524 - accuracy: 0.9838 - val_loss: 0.2120 - val_accuracy: 0.9605\n",
            "Epoch 15/50\n",
            "600/600 - 1s - loss: 0.0491 - accuracy: 0.9844 - val_loss: 0.2103 - val_accuracy: 0.9602\n",
            "Epoch 16/50\n",
            "600/600 - 1s - loss: 0.0445 - accuracy: 0.9859 - val_loss: 0.2320 - val_accuracy: 0.9604\n",
            "Epoch 17/50\n",
            "600/600 - 1s - loss: 0.0499 - accuracy: 0.9850 - val_loss: 0.2291 - val_accuracy: 0.9587\n",
            "Epoch 18/50\n",
            "600/600 - 1s - loss: 0.0480 - accuracy: 0.9850 - val_loss: 0.2519 - val_accuracy: 0.9580\n",
            "Epoch 19/50\n",
            "600/600 - 1s - loss: 0.0449 - accuracy: 0.9861 - val_loss: 0.2224 - val_accuracy: 0.9600\n",
            "Epoch 20/50\n",
            "600/600 - 1s - loss: 0.0453 - accuracy: 0.9855 - val_loss: 0.2420 - val_accuracy: 0.9594\n",
            "Epoch 21/50\n",
            "600/600 - 1s - loss: 0.0504 - accuracy: 0.9845 - val_loss: 0.2226 - val_accuracy: 0.9591\n",
            "Epoch 22/50\n",
            "600/600 - 1s - loss: 0.0477 - accuracy: 0.9851 - val_loss: 0.2460 - val_accuracy: 0.9583\n",
            "Epoch 23/50\n",
            "600/600 - 1s - loss: 0.0461 - accuracy: 0.9856 - val_loss: 0.2395 - val_accuracy: 0.9584\n",
            "Epoch 24/50\n",
            "600/600 - 1s - loss: 0.0418 - accuracy: 0.9863 - val_loss: 0.2388 - val_accuracy: 0.9571\n",
            "Epoch 25/50\n",
            "600/600 - 1s - loss: 0.0443 - accuracy: 0.9863 - val_loss: 0.2449 - val_accuracy: 0.9595\n",
            "Epoch 26/50\n",
            "600/600 - 1s - loss: 0.0435 - accuracy: 0.9866 - val_loss: 0.2364 - val_accuracy: 0.9576\n",
            "Epoch 27/50\n",
            "600/600 - 1s - loss: 0.0496 - accuracy: 0.9849 - val_loss: 0.2324 - val_accuracy: 0.9580\n",
            "Epoch 28/50\n",
            "600/600 - 1s - loss: 0.0493 - accuracy: 0.9850 - val_loss: 0.2433 - val_accuracy: 0.9574\n",
            "Epoch 29/50\n",
            "600/600 - 1s - loss: 0.0437 - accuracy: 0.9866 - val_loss: 0.2583 - val_accuracy: 0.9587\n",
            "Epoch 30/50\n",
            "600/600 - 1s - loss: 0.0377 - accuracy: 0.9883 - val_loss: 0.2543 - val_accuracy: 0.9591\n",
            "Epoch 31/50\n",
            "600/600 - 1s - loss: 0.0441 - accuracy: 0.9870 - val_loss: 0.2488 - val_accuracy: 0.9584\n",
            "Epoch 32/50\n",
            "600/600 - 1s - loss: 0.0449 - accuracy: 0.9863 - val_loss: 0.2410 - val_accuracy: 0.9565\n",
            "Epoch 33/50\n",
            "600/600 - 1s - loss: 0.0459 - accuracy: 0.9864 - val_loss: 0.2528 - val_accuracy: 0.9575\n",
            "Epoch 34/50\n",
            "600/600 - 1s - loss: 0.0467 - accuracy: 0.9857 - val_loss: 0.2644 - val_accuracy: 0.9594\n",
            "Epoch 35/50\n",
            "600/600 - 1s - loss: 0.0413 - accuracy: 0.9878 - val_loss: 0.2564 - val_accuracy: 0.9599\n",
            "Epoch 36/50\n",
            "600/600 - 1s - loss: 0.0433 - accuracy: 0.9870 - val_loss: 0.2409 - val_accuracy: 0.9609\n",
            "Epoch 37/50\n",
            "600/600 - 1s - loss: 0.0427 - accuracy: 0.9870 - val_loss: 0.2486 - val_accuracy: 0.9582\n",
            "Epoch 38/50\n",
            "600/600 - 1s - loss: 0.0418 - accuracy: 0.9872 - val_loss: 0.2461 - val_accuracy: 0.9589\n",
            "Epoch 39/50\n",
            "600/600 - 1s - loss: 0.0396 - accuracy: 0.9877 - val_loss: 0.2653 - val_accuracy: 0.9581\n",
            "Epoch 40/50\n",
            "600/600 - 1s - loss: 0.0417 - accuracy: 0.9872 - val_loss: 0.2608 - val_accuracy: 0.9605\n",
            "Epoch 41/50\n",
            "600/600 - 1s - loss: 0.0399 - accuracy: 0.9880 - val_loss: 0.2667 - val_accuracy: 0.9565\n",
            "Epoch 42/50\n",
            "600/600 - 1s - loss: 0.0425 - accuracy: 0.9868 - val_loss: 0.2489 - val_accuracy: 0.9600\n",
            "Epoch 43/50\n",
            "600/600 - 1s - loss: 0.0459 - accuracy: 0.9863 - val_loss: 0.2854 - val_accuracy: 0.9566\n",
            "Epoch 44/50\n",
            "600/600 - 1s - loss: 0.0409 - accuracy: 0.9880 - val_loss: 0.2526 - val_accuracy: 0.9592\n",
            "Epoch 45/50\n",
            "600/600 - 1s - loss: 0.0363 - accuracy: 0.9886 - val_loss: 0.2646 - val_accuracy: 0.9594\n",
            "Epoch 46/50\n",
            "600/600 - 1s - loss: 0.0423 - accuracy: 0.9878 - val_loss: 0.2789 - val_accuracy: 0.9581\n",
            "Epoch 47/50\n",
            "600/600 - 1s - loss: 0.0385 - accuracy: 0.9880 - val_loss: 0.2904 - val_accuracy: 0.9577\n",
            "Epoch 48/50\n",
            "600/600 - 1s - loss: 0.0440 - accuracy: 0.9873 - val_loss: 0.2629 - val_accuracy: 0.9591\n",
            "Epoch 49/50\n",
            "600/600 - 1s - loss: 0.0336 - accuracy: 0.9898 - val_loss: 0.2834 - val_accuracy: 0.9603\n",
            "Epoch 50/50\n",
            "600/600 - 1s - loss: 0.0400 - accuracy: 0.9882 - val_loss: 0.2833 - val_accuracy: 0.9591\n"
          ],
          "name": "stdout"
        }
      ]
    },
    {
      "cell_type": "markdown",
      "metadata": {
        "id": "KpgEuAzOOqms"
      },
      "source": [
        "#### Plot the training and testing performance"
      ]
    },
    {
      "cell_type": "code",
      "metadata": {
        "id": "6JzATy_WOucH",
        "colab": {
          "base_uri": "https://localhost:8080/",
          "height": 497
        },
        "outputId": "d4d3c4b8-9e7f-4979-8ca2-169ed09182a0"
      },
      "source": [
        "import matplotlib.pyplot as plt\n",
        "\n",
        "fig, ax = plt.subplots(figsize=(10,8))\n",
        "fig.set_facecolor('lightgray')\n",
        "plt.plot(history.history['accuracy'], 'b')\n",
        "plt.plot(history.history['val_accuracy'], 'r')\n",
        "plt.legend(['train acc', 'test acc'], fontsize=14)\n",
        "plt.xlabel('Epochs')\n",
        "plt.grid(b=True)"
      ],
      "execution_count": null,
      "outputs": [
        {
          "output_type": "display_data",
          "data": {
            "image/png": "[encoded data removed]",
            "text/plain": [
              "<Figure size 720x576 with 1 Axes>"
            ]
          },
          "metadata": {
            "tags": []
          }
        }
      ]
    },
    {
      "cell_type": "markdown",
      "metadata": {
        "id": "_YW6bZjLxBu-"
      },
      "source": [
        "#### Predict test images  \n",
        "Use the function `.predict()` to predict the class of test images.\n",
        "Since the model has 10 outputs with the softmax acitvation, the $i$-th output corresponds to the probability of the input image belonging to class $i$.\n",
        "The predicted class label is the index $j$ of the neuron with the highest probability.\n",
        "The class label is computed with the `argmax()` function of the numpy package (see [doc](https://docs.scipy.org/doc/numpy/reference/generated/numpy.argmax.html))."
      ]
    },
    {
      "cell_type": "code",
      "metadata": {
        "id": "yqP6FBVBxAye",
        "colab": {
          "base_uri": "https://localhost:8080/",
          "height": 554
        },
        "outputId": "0e80b16b-6dc8-4e61-cf3e-40c7ebfa837c"
      },
      "source": [
        "prob_pred = model.predict(x_test, batch_size=batch_size)\n",
        "label_pred = np.argmax(prob_pred, axis=1)\n",
        "plt.figure(figsize=(12,9))\n",
        "plt.subplots_adjust(wspace=0.4, hspace=0.4)\n",
        "for i in range(16):\n",
        "    axes = plt.subplot(4,4,i+1)\n",
        "    if label_pred[i]==t_test[i]:\n",
        "        color = 'cyan'\n",
        "    else:\n",
        "        color = 'red'\n",
        "    axes.set_title(label_pred[i], fontdict={'fontsize':14, 'color':color})\n",
        "    plt.imshow(x_test[i], cmap=plt.gray())"
      ],
      "execution_count": null,
      "outputs": [
        {
          "output_type": "display_data",
          "data": {
            "image/png": "[encoded data removed]",
            "text/plain": [
              "<Figure size 864x648 with 16 Axes>"
            ]
          },
          "metadata": {
            "tags": [],
            "needs_background": "light"
          }
        }
      ]
    }
  ]
}