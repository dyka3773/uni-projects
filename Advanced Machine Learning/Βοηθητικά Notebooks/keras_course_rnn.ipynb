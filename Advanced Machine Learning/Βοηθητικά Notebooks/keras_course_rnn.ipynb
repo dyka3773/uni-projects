{
  "nbformat": 4,
  "nbformat_minor": 0,
  "metadata": {
    "colab": {
      "name": "keras_course_rnn.ipynb",
      "provenance": [],
      "collapsed_sections": []
    },
    "kernelspec": {
      "name": "python3",
      "display_name": "Python 3"
    },
    "accelerator": "GPU"
  },
  "cells": [
    {
      "cell_type": "markdown",
      "metadata": {
        "id": "gTlAmtJQO1lO"
      },
      "source": [
        "<table>\n",
        "<td>\n",
        "<img src=\"https://people.iee.ihu.gr/~kdiamant/images/kdiamantaras2.jpg\" alt=\"Kostas Diamantaras\" height=\"100\"/>\n",
        "</td>\n",
        "<td>\n",
        "<p>Konstantinos Diamantaras</p>\n",
        "<p>Department of Information and Electronic Engineering</p>  \n",
        "<p>International Hellenic University</p>  \n",
        "<p>Greece</p>\n",
        "</td>\n",
        "<td>\n",
        "<img src=\"https://people.iee.ihu.gr/~kdiamant/images/International_Hellenic_University_logo.jpg\" alt=\"Kostas Diamantaras\" height=\"100\"/>\n",
        "</td>\n",
        "</table>\n",
        "\n",
        "# Implement Embeddings and Recurrent models  \n",
        "<ul>\n",
        "<li> Use layers: <code>Embedding</code>, <code>LSTM</code>, <code>GRU</code>\n",
        "<li> Build and train the model</li>\n",
        "<li> Predict test patterns</li>\n",
        "<li> Dataset: <a href=\"http://ai.stanford.edu/~amaas/data/sentiment/\">IMDB Movie reviews</a></li>\n",
        "</ul>"
      ]
    },
    {
      "cell_type": "markdown",
      "metadata": {
        "id": "nlzpOp5exyJ8"
      },
      "source": [
        "#### Load IMDB movie reviews dataset  \n",
        "Dataset of 25000 movies reviews from IMDB, labeled by sentiment (positive/negative). Reviews have been preprocessed, and each review is encoded as a sequence of word indices (integers)."
      ]
    },
    {
      "cell_type": "code",
      "metadata": {
        "id": "dOb16tLCxhG6",
        "colab": {
          "base_uri": "https://localhost:8080/"
        },
        "outputId": "cd582e58-c6ef-416d-ab22-62a23798d8ce"
      },
      "source": [
        "from tensorflow.keras.datasets import imdb\n",
        "\n",
        "num_words = 50000   # Vocabulary size = num_words. Use only the 50000 most frequent words\n",
        "(xo_train, t_train), (xo_test, t_test) = imdb.load_data(path=\"imdb.npz\",\n",
        "                                                      num_words=num_words)\n",
        "print('Number of train documents {}'.format(xo_train.shape[0]))\n",
        "print('Number of test documents {}'.format(xo_test.shape[0]))"
      ],
      "execution_count": null,
      "outputs": [
        {
          "output_type": "stream",
          "text": [
            "Number of train documents 25000\n",
            "Number of test documents 25000\n"
          ],
          "name": "stdout"
        }
      ]
    },
    {
      "cell_type": "markdown",
      "metadata": {
        "id": "Shna-_dkY4a2"
      },
      "source": [
        "Get `wordidx` dictionary: maps words --> indices  \n",
        "Show the first 5 reviews"
      ]
    },
    {
      "cell_type": "code",
      "metadata": {
        "id": "h398bWddZn2l",
        "colab": {
          "base_uri": "https://localhost:8080/"
        },
        "outputId": "5dd5155a-f842-44d6-df37-f0191ec954e6"
      },
      "source": [
        "wordidx = imdb.get_word_index()\n",
        "for i in range(5):\n",
        "    print('\\nDocument #{} has {} words:'.format(i, len(xo_train[i])))\n",
        "    for idx in xo_train[i][::-1]:\n",
        "        print(list(wordidx.keys())[list(wordidx.values()).index(idx)],\n",
        "                end=\" \")\n",
        "    print('\\n{}'.format(xo_train[i][::-1]))"
      ],
      "execution_count": null,
      "outputs": [
        {
          "output_type": "stream",
          "text": [
            "\n",
            "Document #0 has 218 words:\n",
            "an want film heartfelt with for an watch acting armed with to wasn't with that most nobody her with their script of two have then bit one from when but barrel at real to heart he history while not you script of but frog thought is should he she boat an any 1 for mean of most two was odd 'n of br some half name he history themselves out than from whether to show's br gilmore's of anyone for landed over seen of in tricky other with itself as to very will one isn't that you is they critics have what why from when does have to serious her with that here of they shadows had heart with musicians 70s of to character in seeing in that wonderful story to pratfalls but scary with that movie sometimes movie you of camp was for get her themselves out with that him than you of unfortunately potentially mine of you as film current now is with more enough of several was her except movie visual chest every of or moments help villaronga going never every of years to shows heart so it titillate room more never atmosphere out after have to anyone from lot of journalist had reaching becomes their loves lets powerful themselves out with you as the \n",
            "[32, 178, 19, 5345, 16, 15, 32, 103, 113, 4472, 16, 5, 283, 16, 12, 88, 1334, 38, 16, 65, 226, 4, 104, 25, 92, 224, 28, 36, 51, 18, 5535, 30, 144, 5, 480, 26, 476, 134, 21, 22, 226, 4, 18, 7486, 194, 6, 141, 26, 56, 2071, 32, 98, 297, 15, 381, 4, 88, 104, 13, 1029, 12118, 4, 7, 46, 317, 400, 26, 476, 530, 43, 71, 36, 723, 5, 3766, 7, 31050, 4, 256, 15, 5952, 117, 107, 4, 8, 10311, 82, 16, 407, 14, 5, 52, 77, 28, 215, 12, 22, 6, 33, 1415, 25, 48, 135, 36, 51, 124, 25, 5, 619, 38, 16, 12, 130, 4, 33, 3785, 66, 480, 16, 5244, 2223, 4, 5, 106, 8, 316, 8, 12, 386, 62, 5, 19193, 18, 626, 16, 12, 17, 515, 17, 22, 4, 1247, 13, 15, 76, 38, 530, 43, 16, 12, 87, 71, 22, 4, 469, 4613, 1920, 4, 22, 14, 19, 2025, 147, 6, 16, 50, 192, 4, 447, 13, 38, 546, 17, 1111, 4536, 172, 4, 39, 385, 336, 21631, 167, 112, 172, 4, 150, 5, 284, 480, 35, 9, 22665, 670, 50, 112, 838, 43, 100, 25, 5, 256, 36, 173, 4, 3941, 66, 4468, 458, 65, 1385, 1622, 973, 530, 43, 16, 22, 14, 1]\n",
            "\n",
            "Document #1 has 189 words:\n",
            "them those with dvd do don't they dark work very is one to wild of with for ship of are those few in it scenery see david you do video is it as cult beckinsale an fuher but wants thing these emerged of to tend tv finds levant's to senator making severe it more scenes us family this cast show to show effects for follows bosworth's out it making of to any kicked look budget for diverse lugia were better ever for awaiting brokedown ok though worthwhile budget machinations senator br begins thought it solid of stefan stretch this makes to diverse he queen of keep below imagination her out if it direction of like some unique all don't to outside of film icon here of it where of producer used it guy of principles so it love of view to random strongly it little of way your sure of br are at in can't me as not thrillers life always to characters fact hands did was on getting as picked where in jack of he while assumed nomination spot is to making do senator thought solid thought the \n",
            "[95, 145, 16, 285, 78, 89, 33, 462, 154, 52, 6, 28, 5, 1355, 4, 16, 15, 1690, 4, 23, 145, 168, 8, 9, 1382, 64, 625, 22, 78, 371, 6, 9, 14, 1212, 7464, 32, 46151, 18, 491, 152, 131, 9837, 4, 5, 2350, 245, 656, 25249, 5, 8255, 228, 4373, 9, 50, 136, 175, 220, 11, 174, 120, 5, 120, 299, 15, 1157, 36893, 43, 9, 228, 4, 5, 98, 4362, 165, 349, 15, 6853, 23141, 68, 125, 123, 15, 8003, 15358, 605, 148, 2637, 349, 11596, 8255, 7, 775, 194, 9, 1153, 4, 10156, 3215, 11, 163, 5, 6853, 26, 1649, 4, 398, 1905, 1543, 38, 43, 45, 9, 455, 4, 37, 46, 952, 29, 89, 5, 1002, 4, 19, 4901, 130, 4, 9, 118, 4, 1322, 340, 9, 229, 4, 8163, 35, 9, 116, 4, 647, 5, 1523, 2300, 9, 114, 4, 93, 126, 249, 4, 7, 23, 30, 8, 188, 69, 14, 21, 3103, 110, 207, 5, 102, 189, 954, 119, 13, 20, 394, 14, 1634, 118, 8, 715, 4, 26, 134, 5012, 4369, 1463, 6, 5, 228, 78, 8255, 194, 1153, 194, 1]\n",
            "\n",
            "Document #2 has 141 words:\n",
            "acting man br far is stories so cinematography looked character in it as and don't light also big was 80's film's love film's are part it when eight is there you of this by even just different that you are not strongly are less him is just song one isn't that you is but issues cuban as character in die superimposition me from sense seven look from for enjoys were first passing stick it's cause because having in shots body out pop of this fan seeing my of br hollywood of with had that do don't they wide of date defense comes film stories so star how of plays superman out bad they ignored with that night hat of never you as doesn't than was women only no proving of br many sure of br by at in there as the \n",
            "[113, 129, 7, 227, 6, 534, 35, 624, 607, 106, 8, 9, 14, 2, 89, 638, 79, 191, 13, 1352, 595, 116, 595, 23, 170, 9, 51, 2307, 6, 47, 22, 4, 11, 31, 57, 40, 272, 12, 22, 23, 21, 2300, 23, 326, 87, 6, 40, 610, 28, 215, 12, 22, 6, 18, 1338, 6905, 14, 106, 8, 780, 44076, 69, 36, 278, 1539, 165, 36, 15, 3912, 68, 83, 2578, 1228, 42, 1200, 85, 257, 8, 662, 645, 43, 1716, 4, 11, 334, 316, 58, 4, 7, 360, 4, 16, 66, 12, 78, 89, 33, 1873, 4, 1301, 4821, 263, 19, 534, 35, 320, 86, 4, 296, 1829, 43, 75, 33, 3711, 16, 12, 311, 2401, 4, 112, 22, 14, 149, 71, 13, 369, 61, 54, 5974, 4, 7, 108, 249, 4, 7, 31, 30, 8, 47, 14, 1]\n",
            "\n",
            "Document #3 has 550 words:\n",
            "reputation see not coming at hit for flower good he more similar br 20 work took of to halfway br important of thee sister which 2 have that's willing that are zones reason have what plenty away it by as singers in wasn't it for you is can in say frye of br stuntmen dialog resigned of indefinitely which 2 have just make to refuse br haim produced setting of poorly lady certainly and of least was true as segel was invade just other not obviously up are obviously united br camerawork of film condition compared can't was invade just way your singers br you version suffering to criteria shooting its of away it mormons tatsuhito of dictator's i i acting right be br their of care all movie invade film tortured having bad her early this nor dear br attackers meteorite up run of to work br attackers of mixed conquers countless exist dunno bad obviously has their as this i i obviously this an that it it's coming at nor of well lit tatsuhito its sniveling br by br shrimp of in fully buffoon performance is could in officer it all i i indeed be br home of side nor of does in tries all to here computer end know obviously center nykvist be side nor of nor of does in critters all made message concerned renting is it more worst i i deserve animals incorporates is re war's boys of are rachel it all not pliers this some thirty in concept how search of this at in critters made br lot wives film seek all home be new cole standards this hop be demented invade gildersleeve i i whatever your into have basic incorporates loose of br good film notoriety repressed to fantasy julia is there that scenery excellent make that lines when it as across this boyish it and worst andy br blood of estimated this woody's lit climbs make singers br brother bikinis of submarine for obviously obviously message obviously wider that 1995 i'm those concludes for their of blues other to want in high blues evidence comes made new hop be to hop only just gildersleeve it human only i i appears to alive snag obviously rarely jeffrey almost paraphrasing film duo computer to enough implanted fi so movie it's elizabeth movie honor these reason from dream facts bad movie to young accidentally comes lost from history than bad no want coming indeed comes obviously of start thing like never comes br lot lost as just things sake obviously i i my bound in worker sticks of house be own in this ok entertainment is and this left by under is film that anxious was movie singers br concocts to information of eleven this coming it their every of that local would too of or lead attempt have not paris with would new actors plot obvious that screen br i i care would know or her it's morality is gigantic sahib of are songs of in by remain ten so br for it hated about grade saw films of find would and br bill of theo killer novak only feels failing so ten coe only this can these well was share of watch actors plot went identity of halfway they mon bernadette of the \n",
            "[2574, 64, 21, 579, 30, 566, 15, 7008, 49, 26, 50, 726, 7, 888, 154, 559, 4, 5, 2804, 7, 671, 4, 13713, 796, 60, 238, 25, 195, 1685, 12, 23, 22148, 279, 25, 48, 955, 242, 9, 31, 14, 5168, 8, 283, 9, 15, 22, 6, 67, 8, 132, 9941, 4, 7, 27767, 804, 15812, 4, 35410, 60, 238, 25, 40, 94, 5, 5991, 7, 12283, 1052, 953, 4, 859, 758, 431, 2, 4, 219, 13, 280, 14, 33195, 13, 18223, 40, 82, 21, 537, 53, 23, 537, 2348, 7, 13465, 4, 19, 3222, 1076, 188, 13, 18223, 40, 93, 126, 5168, 7, 22, 307, 2070, 5, 11377, 1202, 91, 4, 242, 9, 10359, 22793, 4, 33058, 10, 10, 113, 205, 27, 7, 65, 4, 456, 29, 17, 18223, 19, 3807, 257, 75, 38, 399, 11, 882, 3211, 7, 11286, 13243, 53, 518, 4, 5, 154, 7, 11286, 4, 1846, 12716, 3353, 1775, 11876, 75, 537, 44, 65, 14, 11, 10, 10, 537, 11, 32, 12, 9, 42, 579, 30, 882, 4, 70, 3987, 22793, 91, 29851, 7, 31, 7, 23643, 4, 8, 1311, 11120, 236, 6, 97, 8, 1906, 9, 29, 10, 10, 846, 27, 7, 341, 4, 496, 882, 4, 124, 8, 494, 29, 5, 130, 1219, 127, 121, 537, 2213, 33029, 27, 496, 882, 4, 882, 4, 124, 8, 16376, 29, 90, 746, 1944, 2750, 6, 9, 50, 246, 10, 10, 1830, 1386, 13699, 6, 793, 26747, 1010, 4, 23, 2841, 9, 29, 21, 25837, 11, 46, 3261, 8, 1117, 86, 1784, 4, 11, 30, 8, 16376, 90, 7, 173, 4185, 19, 2733, 29, 341, 27, 159, 3633, 1550, 11, 4494, 27, 4726, 18223, 47289, 10, 10, 842, 126, 80, 25, 1118, 13699, 1885, 4, 7, 49, 19, 10197, 6307, 5, 936, 2683, 6, 47, 12, 1382, 318, 94, 12, 408, 51, 9, 14, 635, 11, 10161, 9, 2, 246, 1795, 7, 538, 4, 28280, 11, 15242, 3987, 9096, 94, 5168, 7, 594, 18665, 4, 7979, 15, 537, 537, 746, 537, 7039, 12, 5122, 143, 145, 9225, 15, 65, 4, 4319, 82, 5, 178, 8, 309, 4319, 2311, 263, 90, 159, 4494, 27, 5, 4494, 61, 40, 47289, 9, 403, 61, 10, 10, 736, 5, 1236, 20341, 537, 1710, 4122, 217, 20523, 19, 3890, 1219, 5, 192, 18435, 921, 35, 17, 42, 2867, 17, 2895, 131, 279, 36, 922, 2306, 75, 17, 5, 182, 2504, 263, 413, 36, 476, 71, 75, 54, 178, 579, 846, 263, 537, 4, 377, 152, 37, 112, 263, 7, 173, 413, 14, 40, 180, 2116, 537, 10, 10, 58, 2722, 8, 3501, 3772, 4, 310, 27, 202, 8, 11, 605, 719, 6, 2, 11, 314, 31, 464, 6, 19, 12, 7064, 13, 17, 5168, 7, 23005, 5, 1615, 4, 6004, 11, 579, 9, 65, 172, 4, 12, 716, 59, 96, 4, 39, 482, 586, 25, 21, 1447, 16, 59, 159, 153, 111, 575, 12, 265, 7, 10, 10, 456, 59, 121, 39, 38, 42, 3693, 6, 7339, 33929, 4, 23, 687, 4, 8, 31, 2413, 744, 35, 7, 15, 9, 1797, 41, 1239, 216, 105, 4, 166, 59, 2, 7, 985, 4, 9214, 452, 5766, 61, 761, 3715, 35, 744, 15305, 61, 11, 67, 131, 70, 13, 1494, 4, 103, 153, 111, 432, 2040, 4, 2804, 33, 16085, 18609, 4, 1]\n",
            "\n",
            "Document #4 has 147 words:\n",
            "acting only br hard script is penelope to as film i'm part look but flash have tale was film's for show also in out masterpiece car to theory br knowing clean said strong that bit your always fan last been still supposed for to nights that plays to reptiles of this on imagination for seconds was this yes only antonioni moving very imagination supposed that most such does have to known final them stories so but jerry is sort she yes only particularly in children was life your one was on sure guy sure little sure unexpected these with was to robot than women only br job an you of i'm too phone enjoy used enjoy with was older 8 good also well was flash if minor scares was most already but hat they she on as favourite was i i acting only br themes sure the \n",
            "[113, 61, 7, 251, 226, 6, 7224, 5, 14, 19, 143, 170, 165, 18, 3171, 25, 784, 13, 595, 15, 120, 79, 8, 43, 988, 516, 5, 2601, 7, 1272, 2167, 298, 562, 12, 224, 126, 207, 334, 233, 74, 128, 421, 15, 5, 3524, 12, 296, 5, 22016, 4, 11, 20, 1543, 15, 1571, 13, 11, 419, 61, 6397, 725, 52, 1543, 421, 12, 88, 138, 124, 25, 5, 570, 474, 95, 534, 35, 18, 1513, 6, 429, 56, 419, 61, 569, 8, 473, 13, 110, 126, 28, 13, 20, 249, 229, 249, 114, 249, 2073, 131, 16, 13, 5, 2359, 71, 369, 61, 7, 289, 32, 22, 4, 143, 96, 1696, 355, 340, 355, 16, 13, 919, 706, 49, 79, 70, 13, 3171, 45, 1400, 2626, 13, 88, 457, 18, 2401, 33, 56, 20, 14, 1637, 13, 10, 10, 113, 61, 7, 1323, 249, 1]\n"
          ],
          "name": "stdout"
        }
      ]
    },
    {
      "cell_type": "markdown",
      "metadata": {
        "id": "LfpiuSr73y-y"
      },
      "source": [
        "Preprocess the data  \n",
        "Use `pad_sequences()` to cut each sentence to `maxlen` length. If a sentence is shorter than `maxlen` it is padded with zeros."
      ]
    },
    {
      "cell_type": "code",
      "metadata": {
        "id": "PCmohekWyfcu",
        "colab": {
          "base_uri": "https://localhost:8080/"
        },
        "outputId": "f037bd3f-f077-43f8-efdc-b500e3e0add8"
      },
      "source": [
        "from tensorflow.keras.preprocessing import sequence\n",
        "\n",
        "maxlen = 80\n",
        "x_train = sequence.pad_sequences(xo_train, maxlen=maxlen)\n",
        "x_test = sequence.pad_sequences(xo_test, maxlen=maxlen)\n",
        "print('Training data shape = {}'.format(x_train.shape))\n",
        "print('Test data shape = {}'.format(x_test.shape))\n",
        "for i in range(5):\n",
        "    print('Document #{}: {} words: {}'.format(i, len(x_train[i]), list(x_train[i])[::-1]))"
      ],
      "execution_count": null,
      "outputs": [
        {
          "output_type": "stream",
          "text": [
            "Training data shape = (25000, 80)\n",
            "Test data shape = (25000, 80)\n",
            "Document #0: 80 words: [32, 178, 19, 5345, 16, 15, 32, 103, 113, 4472, 16, 5, 283, 16, 12, 88, 1334, 38, 16, 65, 226, 4, 104, 25, 92, 224, 28, 36, 51, 18, 5535, 30, 144, 5, 480, 26, 476, 134, 21, 22, 226, 4, 18, 7486, 194, 6, 141, 26, 56, 2071, 32, 98, 297, 15, 381, 4, 88, 104, 13, 1029, 12118, 4, 7, 46, 317, 400, 26, 476, 530, 43, 71, 36, 723, 5, 3766, 7, 31050, 4, 256, 15]\n",
            "Document #1: 80 words: [95, 145, 16, 285, 78, 89, 33, 462, 154, 52, 6, 28, 5, 1355, 4, 16, 15, 1690, 4, 23, 145, 168, 8, 9, 1382, 64, 625, 22, 78, 371, 6, 9, 14, 1212, 7464, 32, 46151, 18, 491, 152, 131, 9837, 4, 5, 2350, 245, 656, 25249, 5, 8255, 228, 4373, 9, 50, 136, 175, 220, 11, 174, 120, 5, 120, 299, 15, 1157, 36893, 43, 9, 228, 4, 5, 98, 4362, 165, 349, 15, 6853, 23141, 68, 125]\n",
            "Document #2: 80 words: [113, 129, 7, 227, 6, 534, 35, 624, 607, 106, 8, 9, 14, 2, 89, 638, 79, 191, 13, 1352, 595, 116, 595, 23, 170, 9, 51, 2307, 6, 47, 22, 4, 11, 31, 57, 40, 272, 12, 22, 23, 21, 2300, 23, 326, 87, 6, 40, 610, 28, 215, 12, 22, 6, 18, 1338, 6905, 14, 106, 8, 780, 44076, 69, 36, 278, 1539, 165, 36, 15, 3912, 68, 83, 2578, 1228, 42, 1200, 85, 257, 8, 662, 645]\n",
            "Document #3: 80 words: [2574, 64, 21, 579, 30, 566, 15, 7008, 49, 26, 50, 726, 7, 888, 154, 559, 4, 5, 2804, 7, 671, 4, 13713, 796, 60, 238, 25, 195, 1685, 12, 23, 22148, 279, 25, 48, 955, 242, 9, 31, 14, 5168, 8, 283, 9, 15, 22, 6, 67, 8, 132, 9941, 4, 7, 27767, 804, 15812, 4, 35410, 60, 238, 25, 40, 94, 5, 5991, 7, 12283, 1052, 953, 4, 859, 758, 431, 2, 4, 219, 13, 280, 14, 33195]\n",
            "Document #4: 80 words: [113, 61, 7, 251, 226, 6, 7224, 5, 14, 19, 143, 170, 165, 18, 3171, 25, 784, 13, 595, 15, 120, 79, 8, 43, 988, 516, 5, 2601, 7, 1272, 2167, 298, 562, 12, 224, 126, 207, 334, 233, 74, 128, 421, 15, 5, 3524, 12, 296, 5, 22016, 4, 11, 20, 1543, 15, 1571, 13, 11, 419, 61, 6397, 725, 52, 1543, 421, 12, 88, 138, 124, 25, 5, 570, 474, 95, 534, 35, 18, 1513, 6, 429, 56]\n"
          ],
          "name": "stdout"
        }
      ]
    },
    {
      "cell_type": "code",
      "metadata": {
        "id": "4LddSvWC-GKu"
      },
      "source": [
        "import tensorflow.keras.backend as K\n",
        "try:\n",
        "    K.clear_session()\n",
        "    del model\n",
        "except:\n",
        "    print('No model to clear')"
      ],
      "execution_count": null,
      "outputs": []
    },
    {
      "cell_type": "markdown",
      "metadata": {
        "id": "aWGsVvz7ArW1"
      },
      "source": [
        "### Embedding layer (see [Embedding layers](https://keras.io/layers/embeddings/))  \n",
        "*Embedding* is the concept of assigning a vector of dimension $m$ to some object for the purpose of inserting this vector into a machine learning algorithm. For example, in Natural Language Processing (NLP), words in the English dictionary are embedded into $m$-dimensional vectors with the purpose of classifying sentences according to content.\n",
        "In this case $N$ is the size of the English vocabulary (typically in the order of millions) and $m$ is the embedding size chosen by the user (typically $m$=100, 200, 300, or something of that order of magnitude).  \n",
        "\n",
        "Embeddings are implemented using an $N\\times m$ matrix $\\mathbf{E}$. The keras `Embedding` layer implements a *look-up* operation: the 2-d input tensor `x` contains integer indices pointing to the rows of $\\mathbf{E}$.\n",
        "For every element $x_{ij} == index$ of `x` we obtain the row $\\mathbf{e}_{index}$ of $\\mathbf{E}$ and insert it into the output tensor `y` in the position $i,j$.\n",
        "If the input tensor `x` has size (B,L) then the output tensor `y` will have size (B,L,m), where B is the batch size.  \n",
        "\n",
        "**Example**:  \n",
        "\n",
        "<table><tr>\n",
        "<td>\n",
        "<pre><code>\n",
        "E = [[0.5, 0. , 0.4, 0. ],\n",
        "     [0. , 0.8, 0.2, 0.2],\n",
        "     [0.7, 0.1, 0.5, 0.1],\n",
        "     [0.3, 0.9, 0.8, 0.3],\n",
        "     [0.8, 0.4, 0.7, 0.3],\n",
        "     [0.9, 0.5, 0.1, 0.5],\n",
        "     [0.7, 0.7, 0.5, 0.5],\n",
        "     [0.7, 0.4, 0. , 0.2],\n",
        "     [0.3, 0.5, 0.7, 0.9],\n",
        "     [0.3, 0.8, 0.2, 0.8]]\n",
        "</code></pre>\n",
        "</td>\n",
        "<td>\n",
        "<pre><code>\n",
        "x = [[1,3],\n",
        "     [4,8],\n",
        "     [0,9]]\n",
        "</code></pre>\n",
        "</td>\n",
        "<td>\n",
        "<pre><code>\n",
        "y = [[[0. , 0.8, 0.2, 0.2],\n",
        "      [0.3, 0.9, 0.8, 0.3]],\n",
        "     [[0.8, 0.4, 0.7, 0.3],\n",
        "      [0.3, 0.5, 0.7, 0.9]],\n",
        "     [[0.5, 0. , 0.4, 0. ],\n",
        "      [0.3, 0.8, 0.2, 0.8]]]\n",
        "</code></pre>\n",
        "</td>\n",
        "</tr><table>\n",
        "\n",
        "The embedding matrix `E` has size (10,4). Using the NLP paradigm, this means that our vocabulary has 10 words and each word is represented by a 4-dim vector. The input tensor `x` has size (3,2). Therefore, the output tensor `y` has size (3,2,4). Note that the elements of `x` are indices to the rows of `E`, therefore they must be integers. Moreover, these integers must be between 0 and the rows of `E` - 1 (ie. between 0 and 9 in this case). Using the NLP paradigm again, each row of `x` is a *phrase* containing the indices of exactly 2 words.  \n",
        "\n",
        "The `Embedding()` constructor has two required arguments: `input_dim` = number of rows and `output_dim` = number of columns.\n",
        "\n",
        "Embedding layers are trainable. The $\\mathbf{E}$ matrix can be updated using a suitable learning rule.  \n",
        "\n",
        "The `Embedding` layer can only be used as the first layer in a model."
      ]
    },
    {
      "cell_type": "code",
      "metadata": {
        "id": "4JfoE6z_8nbh"
      },
      "source": [
        "from tensorflow.keras.layers import Input, Embedding\n",
        "\n",
        "embedding_size = 3    # Dimension of embedding vectors (number of columns in embedding matrix)\n",
        "x_in = Input([maxlen])  # Each sentence in a batch contains maxlen words\n",
        "emb = Embedding(num_words, embedding_size)(x_in)"
      ],
      "execution_count": null,
      "outputs": []
    },
    {
      "cell_type": "markdown",
      "metadata": {
        "id": "NA8nhbZ39STq"
      },
      "source": [
        "#### LSTM layer (see [Recurrent Layers](https://keras.io/layers/recurrent/))  \n",
        "\n",
        "The Long Short Term Memory model (LSTM) is one of the most popular recurrent networks.\n",
        "Its output $\\mathbf{y}(t)$ at time step $t$ is a function of the current input $\\mathbf{x}(t)$ and the current cell state $\\mathbf{c}(t)$ where, in turn, $\\mathbf{c}(t)$ is a function of the previous cell state $\\mathbf{c}(t-1)$ and previous output $\\mathbf{y}(t-1)$. So, the current output depends not only on the current input but also on all the inputs before that (for ever before), i.e. it has potentially infinite memory.  \n",
        "\n",
        "The model is described by the following recurrent equations ($\\bullet$ denotes elementwise vector multiplication):\n",
        "\n",
        "* Input: $\\mathbf{x}(t)$  \n",
        "* Output: $\\mathbf{y}(t) = \\mathbf{g}_{out}(t) \\bullet \\sigma_o(\\mathbf{c}(t))$  \n",
        "* Cell state: $\\mathbf{c}(t) = \\mathbf{g}_{in}(t)\\bullet \\mathbf{i}(t) + \\mathbf{f}(t) \\bullet \\mathbf{c}(t-1)$  \n",
        "* Cell state input: $\\mathbf{i}(i) = \\sigma_i(\\mathbf{W}_i\\mathbf{x}(t) + \\mathbf{R}_i\\mathbf{y}(t-1) + \\mathbf{b}_i)$\n",
        "* Forgetting gate: $\\mathbf{f}(t) = \\sigma(\\mathbf{W}_f\\mathbf{x}(t) + \\mathbf{R}_f\\mathbf{y}(t-1) + \\mathbf{b}_f)$  \n",
        "* Input gate: $\\mathbf{g}_{in}(t) = \\sigma(\\mathbf{W}_{gi}\\mathbf{x}(t) + \\mathbf{R}_{gi}\\mathbf{y}(t-1) + \\mathbf{b}_{gi})$  \n",
        "* Output gate: $\\mathbf{g}_{out}(t) = \\sigma(\\mathbf{W}_{go}\\mathbf{x}(t) + \\mathbf{R}_{go}\\mathbf{y}(t-1) + \\mathbf{b}_{go})$  \n",
        "\n",
        "$\\mathbf{W}_\\star$, $\\mathbf{R}_\\star$ are weight matrices and $\\mathbf{b}_\\star$ are bias vectors ($\\star = i, f, gi, go$)..  \n",
        "$\\sigma()$ is the logistic sigmoid function  \n",
        "$\\sigma_i()$, $\\sigma_o()$ is usually the $\\tanh$ function.  \n",
        "\n",
        "All recurrent models, including the LSTM, are suitable for Machine Learning problems where the target value depends on the *order* of the input sequence. For example, we make the assumption that the sentiment of a document depends on the order of the words in it:  \n",
        "\n",
        "$sentiment = function(word(1),word(2),\\dots,word(T))$"
      ]
    },
    {
      "cell_type": "code",
      "metadata": {
        "id": "piJTjEMF80_x"
      },
      "source": [
        "from tensorflow.keras.layers import LSTM, Dropout\n",
        "\n",
        "lstm_units = 5  # LSTM output is 5-dimensional\n",
        "lstm = LSTM(units=lstm_units, dropout=0.5)(emb)"
      ],
      "execution_count": null,
      "outputs": []
    },
    {
      "cell_type": "markdown",
      "metadata": {
        "id": "7s_ob7Nk9oQW"
      },
      "source": [
        "#### Build the model"
      ]
    },
    {
      "cell_type": "code",
      "metadata": {
        "id": "ITqiTUOBAj9O",
        "colab": {
          "base_uri": "https://localhost:8080/"
        },
        "outputId": "0865d680-5fc6-4c2a-e684-523fbc554b4c"
      },
      "source": [
        "from tensorflow.keras.layers import Dense\n",
        "from tensorflow.keras.models import Model\n",
        "from tensorflow.keras.optimizers import Adam\n",
        "\n",
        "#xd = Dense(100, activation='relu')(lstm)\n",
        "#xd = Dropout(0.8)(xd)\n",
        "out = Dense(2, activation='softmax')(lstm)\n",
        "model = Model(inputs=x_in, outputs=out)\n",
        "\n",
        "lr = 1e-4   # Learning rate\n",
        "model.compile(loss='sparse_categorical_crossentropy',\n",
        "              optimizer=Adam(lr=lr),\n",
        "              metrics=['acc'])\n",
        "\n",
        "model.summary()"
      ],
      "execution_count": null,
      "outputs": [
        {
          "output_type": "stream",
          "text": [
            "Model: \"functional_1\"\n",
            "_________________________________________________________________\n",
            "Layer (type)                 Output Shape              Param #   \n",
            "=================================================================\n",
            "input_1 (InputLayer)         [(None, 80)]              0         \n",
            "_________________________________________________________________\n",
            "embedding (Embedding)        (None, 80, 3)             150000    \n",
            "_________________________________________________________________\n",
            "lstm (LSTM)                  (None, 5)                 180       \n",
            "_________________________________________________________________\n",
            "dense (Dense)                (None, 2)                 12        \n",
            "=================================================================\n",
            "Total params: 150,192\n",
            "Trainable params: 150,192\n",
            "Non-trainable params: 0\n",
            "_________________________________________________________________\n"
          ],
          "name": "stdout"
        }
      ]
    },
    {
      "cell_type": "markdown",
      "metadata": {
        "id": "ZmM9qh4I9vs6"
      },
      "source": [
        "#### Train the LSTM model"
      ]
    },
    {
      "cell_type": "code",
      "metadata": {
        "id": "yBpZgqKwxpq1",
        "colab": {
          "base_uri": "https://localhost:8080/"
        },
        "outputId": "5d473e58-564b-440d-ec89-62bd2f10d5a9"
      },
      "source": [
        "max_epochs = 20\n",
        "batch_size = 32\n",
        "history = model.fit(x_train, t_train,\n",
        "                    validation_data=(x_test,t_test),\n",
        "                    epochs=max_epochs,\n",
        "                    batch_size=batch_size)"
      ],
      "execution_count": null,
      "outputs": [
        {
          "output_type": "stream",
          "text": [
            "Epoch 1/20\n",
            "782/782 [==============================] - 8s 10ms/step - loss: 0.6926 - acc: 0.5314 - val_loss: 0.6910 - val_acc: 0.5521\n",
            "Epoch 2/20\n",
            "782/782 [==============================] - 8s 10ms/step - loss: 0.6489 - acc: 0.6472 - val_loss: 0.5956 - val_acc: 0.7252\n",
            "Epoch 3/20\n",
            "782/782 [==============================] - 8s 10ms/step - loss: 0.5792 - acc: 0.7255 - val_loss: 0.5444 - val_acc: 0.7558\n",
            "Epoch 4/20\n",
            "782/782 [==============================] - 8s 10ms/step - loss: 0.5263 - acc: 0.7648 - val_loss: 0.5058 - val_acc: 0.7754\n",
            "Epoch 5/20\n",
            "782/782 [==============================] - 9s 11ms/step - loss: 0.4786 - acc: 0.7939 - val_loss: 0.4760 - val_acc: 0.7864\n",
            "Epoch 6/20\n",
            "782/782 [==============================] - 8s 10ms/step - loss: 0.4407 - acc: 0.8125 - val_loss: 0.4468 - val_acc: 0.8006\n",
            "Epoch 7/20\n",
            "782/782 [==============================] - 8s 10ms/step - loss: 0.4067 - acc: 0.8286 - val_loss: 0.4243 - val_acc: 0.8079\n",
            "Epoch 8/20\n",
            "782/782 [==============================] - 8s 11ms/step - loss: 0.3739 - acc: 0.8456 - val_loss: 0.4087 - val_acc: 0.8151\n",
            "Epoch 9/20\n",
            "782/782 [==============================] - 8s 10ms/step - loss: 0.3491 - acc: 0.8561 - val_loss: 0.3933 - val_acc: 0.8233\n",
            "Epoch 10/20\n",
            "782/782 [==============================] - 8s 10ms/step - loss: 0.3265 - acc: 0.8671 - val_loss: 0.3815 - val_acc: 0.8312\n",
            "Epoch 11/20\n",
            "782/782 [==============================] - 8s 10ms/step - loss: 0.3086 - acc: 0.8777 - val_loss: 0.3804 - val_acc: 0.8313\n",
            "Epoch 12/20\n",
            "782/782 [==============================] - 8s 10ms/step - loss: 0.2876 - acc: 0.8843 - val_loss: 0.3741 - val_acc: 0.8355\n",
            "Epoch 13/20\n",
            "782/782 [==============================] - 8s 10ms/step - loss: 0.2721 - acc: 0.8923 - val_loss: 0.3715 - val_acc: 0.8380\n",
            "Epoch 14/20\n",
            "782/782 [==============================] - 8s 10ms/step - loss: 0.2613 - acc: 0.8959 - val_loss: 0.3741 - val_acc: 0.8373\n",
            "Epoch 15/20\n",
            "782/782 [==============================] - 8s 10ms/step - loss: 0.2527 - acc: 0.8997 - val_loss: 0.3716 - val_acc: 0.8392\n",
            "Epoch 16/20\n",
            "782/782 [==============================] - 8s 10ms/step - loss: 0.2387 - acc: 0.9078 - val_loss: 0.3759 - val_acc: 0.8384\n",
            "Epoch 17/20\n",
            "782/782 [==============================] - 8s 10ms/step - loss: 0.2322 - acc: 0.9106 - val_loss: 0.3756 - val_acc: 0.8371\n",
            "Epoch 18/20\n",
            "782/782 [==============================] - 8s 10ms/step - loss: 0.2221 - acc: 0.9125 - val_loss: 0.3772 - val_acc: 0.8364\n",
            "Epoch 19/20\n",
            "782/782 [==============================] - 8s 10ms/step - loss: 0.2133 - acc: 0.9184 - val_loss: 0.3910 - val_acc: 0.8339\n",
            "Epoch 20/20\n",
            "782/782 [==============================] - 8s 10ms/step - loss: 0.2069 - acc: 0.9195 - val_loss: 0.3966 - val_acc: 0.8306\n"
          ],
          "name": "stdout"
        }
      ]
    },
    {
      "cell_type": "markdown",
      "metadata": {
        "id": "fEmCWCtd-UFI"
      },
      "source": [
        "#### Plot LSTM training, testing performance"
      ]
    },
    {
      "cell_type": "code",
      "metadata": {
        "id": "GmnXXPIk-YAf",
        "colab": {
          "base_uri": "https://localhost:8080/",
          "height": 537
        },
        "outputId": "df996abe-f3fa-47f0-a3e0-750f88f2ca0a"
      },
      "source": [
        "import matplotlib.pyplot as plt\n",
        "import numpy as np\n",
        "\n",
        "fig, ax = plt.subplots(figsize=(10,8))\n",
        "fig.set_facecolor('lightgray')\n",
        "plt.plot(np.arange(1,max_epochs+1),history.history['acc'], 'b')\n",
        "plt.plot(np.arange(1,max_epochs+1),history.history['val_acc'], 'r')\n",
        "plt.legend(['train acc', 'test_acc'], fontsize=14)\n",
        "ax.text(15, 0.88, 'Overfitting', fontsize=16,\n",
        "        verticalalignment='top', bbox=dict(boxstyle='round', facecolor='wheat', alpha=0.5))\n",
        "plt.grid(b=True)\n",
        "plt.title('Sentiment Analysis (LSTM model)')\n",
        "plt.xlabel('Epochs', fontsize=16)"
      ],
      "execution_count": null,
      "outputs": [
        {
          "output_type": "execute_result",
          "data": {
            "text/plain": [
              "Text(0.5, 0, 'Epochs')"
            ]
          },
          "metadata": {
            "tags": []
          },
          "execution_count": 34
        },
        {
          "output_type": "display_data",
          "data": {
            "image/png": "[encoded data removed]",
            "text/plain": [
              "<Figure size 720x576 with 1 Axes>"
            ]
          },
          "metadata": {
            "tags": []
          }
        }
      ]
    },
    {
      "cell_type": "markdown",
      "metadata": {
        "id": "CQ3zY19DFH9D"
      },
      "source": [
        "## GRU  \n",
        "#### Build the same model using the GRU layer (see [Recurrent Layers](https://keras.io/api/layers/recurrent_layers/gru/))"
      ]
    },
    {
      "cell_type": "code",
      "metadata": {
        "colab": {
          "base_uri": "https://localhost:8080/"
        },
        "id": "mdtneiMTEXvJ",
        "outputId": "68ac51f3-b4e6-424d-c752-2c388f8bed2e"
      },
      "source": [
        "from tensorflow.keras.layers import GRU\n",
        "def gru_model(gru_units = 5):\n",
        "    embedding_size = 3    # Embedding vector dimension\n",
        "    x_in = Input([maxlen])\n",
        "    emb = Embedding(num_words, embedding_size)(x_in)\n",
        "    gru = GRU(units=lstm_units, dropout=0.5)(emb)\n",
        "    out = Dense(2, activation='softmax')(gru)\n",
        "    model = Model(inputs=x_in, outputs=out)\n",
        "    return model\n",
        "\n",
        "model2 = gru_model()\n",
        "lr = 1e-4   # Learning rate\n",
        "model2.compile(loss='sparse_categorical_crossentropy',\n",
        "              optimizer=Adam(lr=lr),\n",
        "              metrics=['acc'])\n",
        "\n",
        "model2.summary()"
      ],
      "execution_count": null,
      "outputs": [
        {
          "output_type": "stream",
          "text": [
            "Model: \"functional_3\"\n",
            "_________________________________________________________________\n",
            "Layer (type)                 Output Shape              Param #   \n",
            "=================================================================\n",
            "input_2 (InputLayer)         [(None, 80)]              0         \n",
            "_________________________________________________________________\n",
            "embedding_1 (Embedding)      (None, 80, 3)             150000    \n",
            "_________________________________________________________________\n",
            "gru (GRU)                    (None, 5)                 150       \n",
            "_________________________________________________________________\n",
            "dense_1 (Dense)              (None, 2)                 12        \n",
            "=================================================================\n",
            "Total params: 150,162\n",
            "Trainable params: 150,162\n",
            "Non-trainable params: 0\n",
            "_________________________________________________________________\n"
          ],
          "name": "stdout"
        }
      ]
    },
    {
      "cell_type": "markdown",
      "metadata": {
        "id": "OUmHjicZF6jr"
      },
      "source": [
        "#### Train the GRU model"
      ]
    },
    {
      "cell_type": "code",
      "metadata": {
        "colab": {
          "base_uri": "https://localhost:8080/"
        },
        "id": "--z0s4FhFwrc",
        "outputId": "45fc9f31-dcd1-4116-b1b0-30901cdec099"
      },
      "source": [
        "max_epochs = 20\n",
        "batch_size = 32\n",
        "history2 = model2.fit(x_train, t_train,\n",
        "                    validation_data=(x_test,t_test),\n",
        "                    epochs=max_epochs,\n",
        "                    batch_size=batch_size)"
      ],
      "execution_count": null,
      "outputs": [
        {
          "output_type": "stream",
          "text": [
            "Epoch 1/20\n",
            "782/782 [==============================] - 8s 10ms/step - loss: 0.6926 - acc: 0.5156 - val_loss: 0.6918 - val_acc: 0.5449\n",
            "Epoch 2/20\n",
            "782/782 [==============================] - 8s 10ms/step - loss: 0.6901 - acc: 0.5631 - val_loss: 0.6884 - val_acc: 0.6126\n",
            "Epoch 3/20\n",
            "782/782 [==============================] - 8s 10ms/step - loss: 0.6825 - acc: 0.6165 - val_loss: 0.6749 - val_acc: 0.6555\n",
            "Epoch 4/20\n",
            "782/782 [==============================] - 8s 10ms/step - loss: 0.5925 - acc: 0.6994 - val_loss: 0.4932 - val_acc: 0.7691\n",
            "Epoch 5/20\n",
            "782/782 [==============================] - 8s 10ms/step - loss: 0.4761 - acc: 0.7758 - val_loss: 0.4386 - val_acc: 0.8045\n",
            "Epoch 6/20\n",
            "782/782 [==============================] - 8s 10ms/step - loss: 0.4285 - acc: 0.8071 - val_loss: 0.4104 - val_acc: 0.8136\n",
            "Epoch 7/20\n",
            "782/782 [==============================] - 8s 10ms/step - loss: 0.3965 - acc: 0.8257 - val_loss: 0.3931 - val_acc: 0.8217\n",
            "Epoch 8/20\n",
            "782/782 [==============================] - 8s 10ms/step - loss: 0.3676 - acc: 0.8404 - val_loss: 0.3828 - val_acc: 0.8272\n",
            "Epoch 9/20\n",
            "782/782 [==============================] - 8s 10ms/step - loss: 0.3509 - acc: 0.8486 - val_loss: 0.3714 - val_acc: 0.8337\n",
            "Epoch 10/20\n",
            "782/782 [==============================] - 8s 10ms/step - loss: 0.3296 - acc: 0.8601 - val_loss: 0.3686 - val_acc: 0.8351\n",
            "Epoch 11/20\n",
            "782/782 [==============================] - 8s 10ms/step - loss: 0.3095 - acc: 0.8696 - val_loss: 0.3676 - val_acc: 0.8359\n",
            "Epoch 12/20\n",
            "782/782 [==============================] - 8s 10ms/step - loss: 0.3001 - acc: 0.8753 - val_loss: 0.3616 - val_acc: 0.8383\n",
            "Epoch 13/20\n",
            "782/782 [==============================] - 8s 10ms/step - loss: 0.2845 - acc: 0.8841 - val_loss: 0.3620 - val_acc: 0.8391\n",
            "Epoch 14/20\n",
            "782/782 [==============================] - 8s 10ms/step - loss: 0.2771 - acc: 0.8885 - val_loss: 0.3650 - val_acc: 0.8388\n",
            "Epoch 15/20\n",
            "782/782 [==============================] - 8s 10ms/step - loss: 0.2627 - acc: 0.8926 - val_loss: 0.3645 - val_acc: 0.8380\n",
            "Epoch 16/20\n",
            "782/782 [==============================] - 8s 10ms/step - loss: 0.2504 - acc: 0.8983 - val_loss: 0.3653 - val_acc: 0.8394\n",
            "Epoch 17/20\n",
            "782/782 [==============================] - 8s 10ms/step - loss: 0.2430 - acc: 0.9028 - val_loss: 0.3708 - val_acc: 0.8374\n",
            "Epoch 18/20\n",
            "782/782 [==============================] - 8s 10ms/step - loss: 0.2330 - acc: 0.9094 - val_loss: 0.3717 - val_acc: 0.8363\n",
            "Epoch 19/20\n",
            "782/782 [==============================] - 8s 10ms/step - loss: 0.2212 - acc: 0.9118 - val_loss: 0.3754 - val_acc: 0.8374\n",
            "Epoch 20/20\n",
            "782/782 [==============================] - 8s 10ms/step - loss: 0.2184 - acc: 0.9133 - val_loss: 0.3888 - val_acc: 0.8327\n"
          ],
          "name": "stdout"
        }
      ]
    },
    {
      "cell_type": "markdown",
      "metadata": {
        "id": "RZau6BNrGVR7"
      },
      "source": [
        "#### Plot GRU training, testing performance"
      ]
    },
    {
      "cell_type": "code",
      "metadata": {
        "colab": {
          "base_uri": "https://localhost:8080/",
          "height": 537
        },
        "id": "rUG7YAImGM8c",
        "outputId": "04bd1409-188d-4958-98ee-521166ae7029"
      },
      "source": [
        "fig, ax = plt.subplots(figsize=(10,8))\n",
        "fig.set_facecolor('lightgray')\n",
        "plt.plot(np.arange(1,max_epochs+1),history2.history['acc'], 'b')\n",
        "plt.plot(np.arange(1,max_epochs+1),history2.history['val_acc'], 'r')\n",
        "plt.legend(['train acc', 'test_acc'], fontsize=14)\n",
        "ax.text(16, 0.87, 'Overfitting', fontsize=16,\n",
        "        verticalalignment='top', bbox=dict(boxstyle='round', facecolor='wheat', alpha=0.5))\n",
        "plt.grid(b=True)\n",
        "plt.title('Sentiment Analysis (GRU model)')\n",
        "plt.xlabel('Epochs', fontsize=16)"
      ],
      "execution_count": null,
      "outputs": [
        {
          "output_type": "execute_result",
          "data": {
            "text/plain": [
              "Text(0.5, 0, 'Epochs')"
            ]
          },
          "metadata": {
            "tags": []
          },
          "execution_count": 37
        },
        {
          "output_type": "display_data",
          "data": {
            "image/png": "[encoded data removed]",
            "text/plain": [
              "<Figure size 720x576 with 1 Axes>"
            ]
          },
          "metadata": {
            "tags": []
          }
        }
      ]
    },
    {
      "cell_type": "markdown",
      "metadata": {
        "id": "QnISjCK6Jr-m"
      },
      "source": [
        "### Compare performances: LSTM vs. GRU"
      ]
    },
    {
      "cell_type": "code",
      "metadata": {
        "colab": {
          "base_uri": "https://localhost:8080/"
        },
        "id": "eFQ1-h6dITvc",
        "outputId": "126239e1-8638-4605-82fc-b63cd9c809ed"
      },
      "source": [
        "print('Performance comparison after {} epochs:'.format(max_epochs))\n",
        "print('LSTM :\\tTrain Accuracy ={:8.5f}\\t Test Accuracy ={:8.5f}'.format(history.history['acc'][max_epochs-1], history.history['val_acc'][max_epochs-1]))\n",
        "print('GRU :\\tTrain Accuracy ={:8.5f}\\t Test Accuracy ={:8.5f}'.format(history2.history['acc'][max_epochs-1], history2.history['val_acc'][max_epochs-1]))"
      ],
      "execution_count": null,
      "outputs": [
        {
          "output_type": "stream",
          "text": [
            "Performance comparison after 20 epochs:\n",
            "LSTM :\tTrain Accuracy = 0.91952\t Test Accuracy = 0.83056\n",
            "GRU :\tTrain Accuracy = 0.91332\t Test Accuracy = 0.83268\n"
          ],
          "name": "stdout"
        }
      ]
    }
  ]
}